{
 "cells": [
  {
   "cell_type": "code",
   "execution_count": null,
   "metadata": {},
   "outputs": [],
   "source": [
    "#My default packages\n",
    "\n",
    "import numpy as np\n",
    "import pandas as pd\n",
    "import matplotlib.pyplot as plt\n",
    "import matplotlib.animation as animation\n",
    "\n",
    "%matplotlib inline\n",
    "%config InlineBackend.figure_format = 'retina'\n",
    "\n",
    "from dataclasses import dataclass\n",
    "import itertools\n",
    "import heapq\n",
    "import networkx as nx"
   ]
  },
  {
   "attachments": {},
   "cell_type": "markdown",
   "metadata": {},
   "source": [
    "# Day 16"
   ]
  },
  {
   "cell_type": "code",
   "execution_count": null,
   "metadata": {},
   "outputs": [],
   "source": [
    "import typing\n",
    "\n",
    "@dataclass\n",
    "class Valve:\n",
    "    name : str\n",
    "    rate : int\n",
    "    tunnels : typing.Set[str]\n",
    "\n",
    "    @classmethod\n",
    "    def frominput(cls,line):\n",
    "        _, name, line = line.rstrip().split(\" \",2)\n",
    "        rate, line = line.split(\"=\")[1].split(\";\")\n",
    "        rate = int(rate)\n",
    "        line = line.split(\"valve\")[1]\n",
    "        if line[0]==\"s\": line = line[2:]\n",
    "        else: line = line[1:]\n",
    "        valves = set(line.split(\", \"))\n",
    "        return Valve(name,rate,valves)\n"
   ]
  },
  {
   "cell_type": "code",
   "execution_count": null,
   "metadata": {},
   "outputs": [],
   "source": [
    "pipenet ={}\n",
    "with open(\"input16.txt\") as f:\n",
    "    pipes = nx.Graph()\n",
    "    while l:= f.readline():\n",
    "        v = Valve.frominput(l)\n",
    "        pipes.add_node(v.name,rate=v.rate)\n",
    "        pipes.add_edges_from((v.name,v2) for v2 in v.tunnels)\n",
    "        pipenet[v.name] = v\n",
    "expipenet ={}\n",
    "with open(\"ex16.txt\") as f:\n",
    "    expipes = nx.Graph()\n",
    "\n",
    "    while l:= f.readline():\n",
    "        v = Valve.frominput(l)\n",
    "        expipenet[v.name] = v\n",
    "        expipes.add_node(v.name,rate=v.rate)\n",
    "        expipes.add_edges_from((v.name,v2) for v2 in v.tunnels)"
   ]
  },
  {
   "cell_type": "code",
   "execution_count": null,
   "metadata": {},
   "outputs": [],
   "source": [
    "def naiveincreasethepressure(pnet,pos=\"AA\",mins=30,openvalves=None,totP=0,visited=None,path=None):\n",
    "    if openvalves is None:\n",
    "        openvalves = []\n",
    "    if visited is None:\n",
    "        visited={}\n",
    "    # if maxvalves is not None:\n",
    "    #     maxvalves = len([v.rate for v in pnet.values() if v.rate>0])\n",
    "    # print(pos,mins,totP,len(openvalves))\n",
    "    if mins == 0:\n",
    "        print(visited)\n",
    "        return totP\n",
    "    elif pos in visited and len(openvalves) == visited[pos] :\n",
    "        return 0 #Not optimal\n",
    "    else:\n",
    "        newP = totP+flowrate(pnet,openvalves)\n",
    "        resP = newP\n",
    "        v = pnet[pos]\n",
    "        visited[pos] = len(openvalves)\n",
    "        if pos not in openvalves and v.rate>0:            \n",
    "            resP = max(resP,increasethepressure(pnet,pos,mins-1,openvalves+[v.name],newP,visited.copy()))\n",
    "        for nv in v.tunnels:\n",
    "            resP = max(resP,increasethepressure(pnet,nv,mins-1,openvalves,newP,visited.copy()))\n",
    "        return resP"
   ]
  },
  {
   "cell_type": "code",
   "execution_count": null,
   "metadata": {},
   "outputs": [],
   "source": [
    "def betterpipes(pipes,st=\"AA\"):\n",
    "    relevantnodes = {v:pipes.nodes[v][\"rate\"] for v in pipes.nodes if pipes.nodes[v][\"rate\"]>0}\n",
    "    valvedist = nx.floyd_warshall(pipes)\n",
    "\n",
    "    rpipes = nx.Graph()\n",
    "    rpipes.add_nodes_from((v,{\"rate\":r}) for v,r in relevantnodes.items())\n",
    "    rpipes.add_node(st,rate=pipes.nodes[st][\"rate\"])\n",
    "    rpipes.add_edges_from((v1,v2,{\"weight\":valvedist[v1][v2]}) for v1,v2 in itertools.product(rpipes.nodes,repeat=2) if v1!=v2)\n",
    "    return rpipes"
   ]
  },
  {
   "cell_type": "code",
   "execution_count": null,
   "metadata": {},
   "outputs": [],
   "source": [
    "def openvalve(valve,pos,pipes,time):\n",
    "    \"\"\"Return remaining time as well as the generated pressure when opening valve from pos\"\"\"\n",
    "    time = time -int(pipes[pos][valve][\"weight\"])-1\n",
    "    return pipes.nodes[valve][\"rate\"]*time,time\n",
    "\n",
    "def openmanyvalves(openorder,st,pipes,time):\n",
    "    releasedP = 0\n",
    "    pos = st\n",
    "    remtime = time\n",
    "    for v in openorder:\n",
    "        dP,remtime = openvalve(v,pos,pipes,remtime)\n",
    "        pos=v\n",
    "        if remtime<0:\n",
    "            return releasedP+dP,remtime,pos # This path goes nowhere\n",
    "        releasedP += dP\n",
    "    return releasedP,remtime,pos\n",
    "\n",
    "\n",
    "def maxpressure(opened,pipes,time,pos=None):\n",
    "    \"Assume we open valves immediately for the remaining time\"\n",
    "    totP = 0\n",
    "    if pos is None or  pos not in opened:\n",
    "        mindist= 0\n",
    "    else:\n",
    "        mindist = min([0]+[d[\"weight\"] for v,d in pipes[pos].items() if v not in opened])\n",
    "\n",
    "    \n",
    "    for v in pipes.nodes:\n",
    "        if v not in opened:\n",
    "            totP+=pipes.nodes[v][\"rate\"]\n",
    "    return max(0,int(time-mindist-1)*totP)"
   ]
  },
  {
   "cell_type": "code",
   "execution_count": null,
   "metadata": {},
   "outputs": [],
   "source": [
    "def increasethepressure(pipes,st=\"AA\",time = 30):\n",
    "\n",
    "    pipes = betterpipes(pipes,st)\n",
    "    \n",
    "    def possiblevalves(opened,pipes,st=\"AA\"):\n",
    "        return [opened+[v] for v in pipes.nodes if v not in opened and v!=st]\n",
    "\n",
    "    maxtotP = 0\n",
    "    bestpath=[]\n",
    "    opened = []\n",
    "\n",
    "    queue = possiblevalves([],pipes)\n",
    "\n",
    "    while queue:\n",
    "        toopen = queue.pop()\n",
    "        releaasedP,remtime,pos = openmanyvalves(toopen,st,pipes,time)\n",
    "        if remtime<0:\n",
    "            continue\n",
    "        elif releaasedP+maxpressure(toopen,pipes,remtime,pos)>maxtotP:\n",
    "            queue+=possiblevalves(toopen,pipes)\n",
    "            if releaasedP>maxtotP:\n",
    "                maxtotP = releaasedP\n",
    "                bestpath = toopen\n",
    "    return maxtotP,bestpath\n",
    "\n",
    "        \n",
    "        \n",
    "\n",
    "\n",
    "\n",
    "\n"
   ]
  },
  {
   "cell_type": "code",
   "execution_count": null,
   "metadata": {},
   "outputs": [],
   "source": [
    "increasethepressure(expipes,)"
   ]
  },
  {
   "cell_type": "code",
   "execution_count": null,
   "metadata": {},
   "outputs": [],
   "source": [
    "increasethepressure(pipes)\n"
   ]
  },
  {
   "cell_type": "code",
   "execution_count": null,
   "metadata": {},
   "outputs": [],
   "source": [
    "plt.plot(*zip(*sorted(logqueue.items())))"
   ]
  },
  {
   "cell_type": "code",
   "execution_count": null,
   "metadata": {},
   "outputs": [],
   "source": [
    "def badincreasethepressurewithanelephant(pipes,logqueue,st=\"AA\",time = 26,):\n",
    "\n",
    "    pipes = betterpipes(pipes,st)\n",
    "\n",
    "    \n",
    "    def possiblevalves2(player1,player2,rt1,rt2,pipes,st=\"AA\",rP=0):\n",
    "        res = []\n",
    "        if len(player1)==0: st1=st\n",
    "        else: st1=player1[-1]\n",
    "        if len(player2)==0: st2=st\n",
    "        else: st2=player2[-1]\n",
    "        for v in pipes.nodes:\n",
    "            if v not in player1 and v not in player2 and v!=st:\n",
    "                if pipes[st1][v][\"weight\"]+1<rt1:\n",
    "                    res.append((-rP,player1+[v],player2))\n",
    "                if pipes[st2][v][\"weight\"]+1<rt2:\n",
    "                    res.append((-rP,player1,player2+[v]))\n",
    "        return res\n",
    "\n",
    "    bestP = 0\n",
    "    bestpaths=[]\n",
    "    opened = []\n",
    "\n",
    "    queue = possiblevalves2([],[],time,time,pipes,rP=0)\n",
    "    #heapq.heapify(queue)\n",
    "        # queue = heapq.heapify(possiblevalves2([],[],pipes,rP=0))\n",
    "    # print(queue)\n",
    "    k = 0\n",
    "    while queue:\n",
    "        k+=1\n",
    "        logqueue[len(queue)]+=1\n",
    "\n",
    "        #_,toopeny,toopenel =heapq.heappop(queue)\n",
    "        _,toopeny,toopenel =queue.pop()\n",
    "\n",
    "        releaasedPy,remtimey,posy = openmanyvalves(toopeny,st,pipes,time)\n",
    "        releaasedPel,remtimeel,posel = openmanyvalves(toopenel,st,pipes,time)\n",
    "\n",
    "        if remtimey<0 or remtimeel<0:\n",
    "            continue\n",
    "\n",
    "        maxPy = maxpressure(toopeny+toopenel,pipes,remtimey,posy)\n",
    "        maxPel = maxpressure(toopeny+toopenel,pipes,remtimeel,posel)\n",
    "        maxP = max(maxPel,maxPy)\n",
    "        releaasedP = releaasedPy+releaasedPel\n",
    "\n",
    "        if k%100000==0:\n",
    "            print(releaasedP,\"\\t\",remtimey,remtimeel,bestpaths,[n for n in pipes.nodes if n not in bestpaths[0] and n not in bestpaths[1]],len(queue))\n",
    "        if releaasedP+maxP>bestP:\n",
    "            for newroute in possiblevalves2(toopeny,toopenel,remtimey,remtimeel,pipes,rP=releaasedP,):\n",
    "                # heapq.heappush(queue,newroute)\n",
    "                queue.append(newroute)\n",
    "            \n",
    "            if releaasedP>bestP:\n",
    "                # print(releaasedP)\n",
    "                bestP = releaasedP\n",
    "                bestpaths = [toopeny,toopenel]\n",
    "                print(releaasedP,maxP,remtimey,remtimeel,bestpaths,[n for n in pipes.nodes if n not in bestpaths[0] and n not in bestpaths[1]],len(queue))\n",
    "    return bestP,bestpaths"
   ]
  },
  {
   "cell_type": "code",
   "execution_count": null,
   "metadata": {},
   "outputs": [],
   "source": [
    "logqueueex = defaultdict(int)\n",
    "badincreasethepressurewithanelephant(expipes,logqueueex,time=26)\n",
    "plt.plot(*zip(*sorted(logqueue.items())))"
   ]
  },
  {
   "cell_type": "code",
   "execution_count": null,
   "metadata": {},
   "outputs": [],
   "source": [
    "betterpipes(expipes)[\"AA\"][\"BB\"]"
   ]
  },
  {
   "cell_type": "code",
   "execution_count": null,
   "metadata": {},
   "outputs": [],
   "source": []
  },
  {
   "cell_type": "code",
   "execution_count": null,
   "metadata": {},
   "outputs": [],
   "source": [
    "\n",
    "\n",
    "def increasethepressurewithanelephant(pipes,st=\"AA\",time = 26,):\n",
    "\n",
    "    pipes = betterpipes(pipes,st)\n",
    "    \n",
    "    def allvalveorders(pipes, node, todo, done, time):\n",
    "        for next_node in todo:\n",
    "            cost = int(pipes[node][next_node][\"weight\"]) + 1\n",
    "            if cost < time:\n",
    "                yield from allvalveorders(pipes, next_node, todo - {next_node},\n",
    "                                    done + [next_node],time - cost)\n",
    "        yield done\n",
    "\n",
    "    valves = allvalveorders(pipes, st, set(n for n in pipes.nodes if n !=st), [], 26)\n",
    "\n",
    "    allPressures=[]\n",
    "\n",
    "    paths = set()\n",
    "    for vo in valves:\n",
    "        releasedP,_,_ =  openmanyvalves(vo,st,pipes, time)\n",
    "        allPressures.append((releasedP,vo))\n",
    "\n",
    "\n",
    "    allPressures.sort(key=lambda x:-x[0])\n",
    "    bestP = 0\n",
    "\n",
    "    for j,(pa,voa) in enumerate(allPressures):\n",
    "        if 2*pa<bestP:\n",
    "            break\n",
    "        for pb,vob in allPressures[j+1:]:\n",
    "            if not set(voa)&set(vob):\n",
    "                if pa+pb>bestP:\n",
    "                    bestP = pa+pb\n",
    "                    bestpaths=(voa,vob)\n",
    "            \n",
    "\n",
    "    return bestP,bestpaths"
   ]
  },
  {
   "cell_type": "code",
   "execution_count": null,
   "metadata": {},
   "outputs": [],
   "source": [
    "bP,bpaths = increasethepressurewithanelephant(pipes)"
   ]
  },
  {
   "cell_type": "code",
   "execution_count": null,
   "metadata": {},
   "outputs": [],
   "source": [
    "bP"
   ]
  },
  {
   "cell_type": "code",
   "execution_count": null,
   "metadata": {},
   "outputs": [],
   "source": []
  }
 ],
 "metadata": {
  "kernelspec": {
   "display_name": "Python 3.11.0",
   "language": "python",
   "name": "python3"
  },
  "language_info": {
   "codemirror_mode": {
    "name": "ipython",
    "version": 3
   },
   "file_extension": ".py",
   "mimetype": "text/x-python",
   "name": "python",
   "nbconvert_exporter": "python",
   "pygments_lexer": "ipython3",
   "version": "3.11.0 | packaged by conda-forge | (main, Oct 25 2022, 06:24:51) [Clang 14.0.4 ]"
  },
  "vscode": {
   "interpreter": {
    "hash": "40ccaff05b52072d4f8eabac3df5900fe0a79a9a98d891785a410914ef6bf60b"
   }
  }
 },
 "nbformat": 4,
 "nbformat_minor": 2
}
