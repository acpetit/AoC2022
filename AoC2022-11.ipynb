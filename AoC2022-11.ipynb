{
 "cells": [
  {
   "cell_type": "code",
   "execution_count": 1,
   "metadata": {},
   "outputs": [],
   "source": [
    "#My default packages\n",
    "\n",
    "import numpy as np\n",
    "import pandas as pd\n",
    "import matplotlib.pyplot as plt\n",
    "import matplotlib.animation as animation\n",
    "\n",
    "%matplotlib inline\n",
    "%config InlineBackend.figure_format = 'retina'\n",
    "\n",
    "from dataclasses import dataclass\n",
    "import itertools\n",
    "import heapq\n"
   ]
  },
  {
   "attachments": {},
   "cell_type": "markdown",
   "metadata": {},
   "source": [
    "# Day 11"
   ]
  },
  {
   "cell_type": "code",
   "execution_count": 58,
   "metadata": {},
   "outputs": [],
   "source": [
    "class Monkey:\n",
    "    def __init__(self,motxt) -> None:\n",
    "        mol = motxt.split(\"\\n\")\n",
    "        self.name = int(mol[0][-2])\n",
    "        self.items = [int(k) for k in mol[1].split(\": \")[1].split(\", \")]\n",
    "        self.op = mol[2].split(\": \")[1]\n",
    "        self._test = [int(mol[k].rsplit(\" \",1)[1]) for k in [3,4,5]]\n",
    "        self.log=0\n",
    "    \n",
    "    def __repr__(self) -> str:\n",
    "        return f\"Monkey[{self.name}]({self.items})\"\n",
    "\n",
    "    def inspect(self,item):\n",
    "        self.log+=1\n",
    "        loc ={\"old\":item}\n",
    "        exec(self.op,globals(), loc)\n",
    "        return loc[\"new\"]\n",
    "\n",
    "    def test(self,item):\n",
    "        t,mt,mf = self._test\n",
    "        if item%t==0:\n",
    "            return mt\n",
    "        else:\n",
    "            return mf\n",
    "    def catch(self,item):\n",
    "        self.items.append(item)\n",
    "\n",
    "class Party:\n",
    "    def __init__(self,partyfile) -> None:\n",
    "        self.monkeys = [Monkey(motxt) for motxt in partyfile.split(\"\\n\\n\")]\n",
    "    \n",
    "    def __repr__(self) -> str:\n",
    "        return self.monkeys.__repr__()\n",
    "\n",
    "    def __getitem__(self,k):\n",
    "        return self.monkeys[k]\n",
    "\n",
    "    def playround(self):\n",
    "        for monkey in self.monkeys:\n",
    "            while monkey.items:\n",
    "                it = monkey.items.pop(0)\n",
    "                it = monkey.inspect(it)\n",
    "                if not worried: it = it//3\n",
    "                nm = monkey.test(it)\n",
    "                self[nm].catch(it)\n",
    "    \n",
    "    def business(self):\n",
    "        bs = sorted([m.log for m in self.monkeys])\n",
    "        return bs[-2]*bs[-1]\n",
    "\n",
    "    def audit(self):\n",
    "        for m in self.monkeys:\n",
    "            print(f\"Monkey {m.name} inspected items {m.log} times.\")\n",
    "\n",
    "class WorriedParty(Party):\n",
    "    def __init__(self, partyfile) -> None:\n",
    "        super().__init__(partyfile)\n",
    "        self.mod = 1\n",
    "        for m in self.monkeys:\n",
    "            self.mod*=m._test[0]\n",
    "    \n",
    "    def playround(self):\n",
    "        for monkey in self.monkeys:\n",
    "            while monkey.items:\n",
    "                it = monkey.items.pop(0)\n",
    "                it = monkey.inspect(it)\n",
    "                it = it %self.mod\n",
    "                nm = monkey.test(it)\n",
    "                self[nm].catch(it)\n",
    "\n",
    "\n"
   ]
  },
  {
   "cell_type": "code",
   "execution_count": 26,
   "metadata": {},
   "outputs": [
    {
     "data": {
      "text/plain": [
       "112221"
      ]
     },
     "execution_count": 26,
     "metadata": {},
     "output_type": "execute_result"
    }
   ],
   "source": [
    "with open(\"input11.txt\") as f:\n",
    "    party = Party(f.read())\n",
    "for _ in range(20):\n",
    "    party.playround()\n",
    "party.business()"
   ]
  },
  {
   "cell_type": "code",
   "execution_count": 63,
   "metadata": {},
   "outputs": [
    {
     "name": "stdout",
     "output_type": "stream",
     "text": [
      "CPU times: user 13.4 s, sys: 61.8 ms, total: 13.5 s\n",
      "Wall time: 13.5 s\n"
     ]
    }
   ],
   "source": [
    "%%time\n",
    "\n",
    "with open(\"input11.txt\") as f:\n",
    "    party = WorriedParty(f.read())\n",
    "\n",
    "for k in range(10000):\n",
    "    party.playround()\n"
   ]
  },
  {
   "cell_type": "code",
   "execution_count": 64,
   "metadata": {},
   "outputs": [
    {
     "data": {
      "text/plain": [
       "25272176808"
      ]
     },
     "execution_count": 64,
     "metadata": {},
     "output_type": "execute_result"
    }
   ],
   "source": [
    "party.business()"
   ]
  },
  {
   "cell_type": "code",
   "execution_count": null,
   "metadata": {},
   "outputs": [],
   "source": []
  }
 ],
 "metadata": {
  "kernelspec": {
   "display_name": "Python 3.11.0",
   "language": "python",
   "name": "python3"
  },
  "language_info": {
   "codemirror_mode": {
    "name": "ipython",
    "version": 3
   },
   "file_extension": ".py",
   "mimetype": "text/x-python",
   "name": "python",
   "nbconvert_exporter": "python",
   "pygments_lexer": "ipython3",
   "version": "3.11.0"
  },
  "vscode": {
   "interpreter": {
    "hash": "40ccaff05b52072d4f8eabac3df5900fe0a79a9a98d891785a410914ef6bf60b"
   }
  }
 },
 "nbformat": 4,
 "nbformat_minor": 2
}
