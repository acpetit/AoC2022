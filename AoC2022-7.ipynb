{
 "cells": [
  {
   "cell_type": "code",
   "execution_count": 2,
   "metadata": {},
   "outputs": [],
   "source": [
    "#My default packages\n",
    "\n",
    "import numpy as np\n",
    "import pandas as pd\n",
    "import matplotlib.pyplot as plt\n",
    "import matplotlib.animation as animation\n",
    "\n",
    "%matplotlib inline\n",
    "%config InlineBackend.figure_format = 'retina'\n",
    "\n",
    "from dataclasses import dataclass\n",
    "import itertools\n",
    "import heapq\n"
   ]
  },
  {
   "attachments": {},
   "cell_type": "markdown",
   "metadata": {},
   "source": [
    "# Day 7"
   ]
  },
  {
   "cell_type": "code",
   "execution_count": 24,
   "metadata": {},
   "outputs": [],
   "source": [
    "class File:\n",
    "    def __init__(self,name :str, parent =None,size :int =0) -> None:\n",
    "        self.name =name\n",
    "        self.parent = parent\n",
    "        self._size = size\n",
    "\n",
    "    def __repr__(self) -> str:\n",
    "        return f\"File({self.name} in {self.parent.name if self.parent else None} (size={self._size}))\"\n",
    "\n",
    "    def size(self):\n",
    "        return self._size\n",
    "\n",
    "\n",
    "class Dir(File):\n",
    "    def __init__(self,name :str, parent=None) -> None:\n",
    "        File.__init__(self,name,parent)\n",
    "\n",
    "        self.contains = {}\n",
    "\n",
    "    def __repr__(self) -> str:\n",
    "        return f\"Dir({self.name} in {self.parent.name if self.parent else None} (contains {len(self.contains)} elements)\"\n",
    "\n",
    "    def size(self):\n",
    "        return sum(e.size() for e in self.contains.values())\n",
    "    def add(self,elem):\n",
    "        self.contains[elem.name] = elem\n"
   ]
  },
  {
   "attachments": {},
   "cell_type": "markdown",
   "metadata": {},
   "source": []
  },
  {
   "cell_type": "code",
   "execution_count": 25,
   "metadata": {},
   "outputs": [],
   "source": [
    "root = Dir(\"/\")\n",
    "with open(\"input7.txt\") as f:\n",
    "    while line:= f.readline().rstrip():\n",
    "        if line[:4]==\"$ cd\":\n",
    "            destination = line.split(\" \")[-1]\n",
    "            if destination==\"..\":\n",
    "                curdir=curdir.parent\n",
    "            elif destination==\"/\":\n",
    "                curdir = root\n",
    "            else:\n",
    "                curdir=curdir.contains[destination]\n",
    "        elif line[:4]==\"$ ls\":\n",
    "            continue\n",
    "        else:\n",
    "            sd,name = line.split(\" \")\n",
    "            if sd==\"dir\":\n",
    "                curdir.add(Dir(name,curdir))\n",
    "            else:\n",
    "                sd= int(sd)\n",
    "                curdir.add(File(name,curdir,sd))\n",
    "\n",
    "\n"
   ]
  },
  {
   "cell_type": "code",
   "execution_count": 26,
   "metadata": {},
   "outputs": [],
   "source": [
    "def looksmalldirs(dir,maxsize=100000,smaldir=None):\n",
    "    if smaldir is None:\n",
    "        smaldir = set()\n",
    "    if dir.size()<=maxsize:\n",
    "        smaldir.add(dir)\n",
    "    for subdir in dir.contains.values():\n",
    "        if type(subdir) is Dir:\n",
    "            smaldir = looksmalldirs(subdir,maxsize,smaldir)\n",
    "    return smaldir\n",
    "def lookbigdirs(dir,minsize=100000,smaldir=None):\n",
    "    if smaldir is None:\n",
    "        smaldir = set()\n",
    "    if dir.size()>=minsize:\n",
    "        smaldir.add(dir)\n",
    "    for subdir in dir.contains.values():\n",
    "        if type(subdir) is Dir:\n",
    "            smaldir = lookbigdirs(subdir,minsize,smaldir)\n",
    "    return smaldir"
   ]
  },
  {
   "cell_type": "code",
   "execution_count": 27,
   "metadata": {},
   "outputs": [
    {
     "data": {
      "text/plain": [
       "1783610"
      ]
     },
     "execution_count": 27,
     "metadata": {},
     "output_type": "execute_result"
    }
   ],
   "source": [
    "smoldir = looksmalldirs(root,maxsize=100000)\n",
    "sum(map(Dir.size,smoldir))"
   ]
  },
  {
   "cell_type": "code",
   "execution_count": 28,
   "metadata": {},
   "outputs": [
    {
     "data": {
      "text/plain": [
       "4370655"
      ]
     },
     "execution_count": 28,
     "metadata": {},
     "output_type": "execute_result"
    }
   ],
   "source": [
    "totaldiskspace = 70_000_000\n",
    "neededunusedspace = 30000000\n",
    "\n",
    "todelete = neededunusedspace-(totaldiskspace-root.size())\n",
    "\n",
    "bigdir = lookbigdirs(root,minsize=todelete)\n",
    "min(map(Dir.size,bigdir))"
   ]
  }
 ],
 "metadata": {
  "kernelspec": {
   "display_name": "Python 3.11.0",
   "language": "python",
   "name": "python3"
  },
  "language_info": {
   "codemirror_mode": {
    "name": "ipython",
    "version": 3
   },
   "file_extension": ".py",
   "mimetype": "text/x-python",
   "name": "python",
   "nbconvert_exporter": "python",
   "pygments_lexer": "ipython3",
   "version": "3.11.0"
  },
  "vscode": {
   "interpreter": {
    "hash": "40ccaff05b52072d4f8eabac3df5900fe0a79a9a98d891785a410914ef6bf60b"
   }
  }
 },
 "nbformat": 4,
 "nbformat_minor": 2
}
