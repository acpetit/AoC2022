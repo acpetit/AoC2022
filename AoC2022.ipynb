{
 "cells": [
  {
   "cell_type": "code",
   "execution_count": 5,
   "metadata": {},
   "outputs": [],
   "source": [
    "#My default packages\n",
    "\n",
    "import numpy as np\n",
    "import pandas as pd\n",
    "import matplotlib.pyplot as plt\n",
    "import matplotlib.animation as animation\n",
    "\n",
    "%matplotlib inline\n",
    "%config InlineBackend.figure_format = 'retina'\n",
    "\n",
    "from dataclasses import dataclass\n",
    "import itertools\n",
    "import heapq\n"
   ]
  },
  {
   "cell_type": "markdown",
   "metadata": {},
   "source": [
    "# Day 1"
   ]
  },
  {
   "cell_type": "code",
   "execution_count": 2,
   "metadata": {},
   "outputs": [],
   "source": [
    "with open(\"input1.txt\") as f:\n",
    "    file = f.read()\n",
    "    calories = [[int(c) for c in s.split(\"\\n\")] for s in file.split(\"\\n\\n\")[:-1]]"
   ]
  },
  {
   "cell_type": "code",
   "execution_count": 3,
   "metadata": {},
   "outputs": [
    {
     "data": {
      "text/plain": [
       "70369"
      ]
     },
     "execution_count": 3,
     "metadata": {},
     "output_type": "execute_result"
    }
   ],
   "source": [
    "calbyelf = [sum(elf) for elf in calories]\n",
    "max(calbyelf)"
   ]
  },
  {
   "cell_type": "code",
   "execution_count": 4,
   "metadata": {},
   "outputs": [
    {
     "data": {
      "text/plain": [
       "203002"
      ]
     },
     "execution_count": 4,
     "metadata": {},
     "output_type": "execute_result"
    }
   ],
   "source": [
    "sum(sorted(calbyelf)[-3:])"
   ]
  },
  {
   "cell_type": "markdown",
   "metadata": {},
   "source": [
    "# Day 2"
   ]
  },
  {
   "cell_type": "code",
   "execution_count": 10,
   "metadata": {},
   "outputs": [],
   "source": [
    "def elfconv(c):\n",
    "    return next(i for i, el in enumerate([\"A\",\"B\",\"C\"]) if el ==c)\n",
    "\n",
    "def youconv(c):\n",
    "    return next(i for i, el in enumerate([\"X\",\"Y\",\"Z\"]) if el ==c)\n",
    "\n",
    "def genconv(c):\n",
    "    RPS = {\"A\":0,\"B\":1,\"C\":2,\"X\":0,\"Y\":1,\"Z\":2}\n",
    "    return RPS[c]\n",
    "\n",
    "fightconvert ={\n",
    "    0: genconv,\n",
    "    1: genconv\n",
    "}"
   ]
  },
  {
   "cell_type": "code",
   "execution_count": 11,
   "metadata": {},
   "outputs": [],
   "source": [
    "fightlistA = pd.read_csv(\"input2.txt\",header=None,delim_whitespace=True,names=[\"Elf\",\"You\"],converters=fightconvert)\n",
    "fightlistA[\"Result\"] = ((fightlistA.You-fightlistA.Elf+1)%3)\n",
    "fightlistA[\"Score\"] = 3*fightlistA.Result+fightlistA.You+1"
   ]
  },
  {
   "cell_type": "code",
   "execution_count": 12,
   "metadata": {},
   "outputs": [
    {
     "data": {
      "text/plain": [
       "9651"
      ]
     },
     "execution_count": 12,
     "metadata": {},
     "output_type": "execute_result"
    }
   ],
   "source": [
    "fightlistA.Score.sum()"
   ]
  },
  {
   "cell_type": "code",
   "execution_count": 13,
   "metadata": {},
   "outputs": [],
   "source": [
    "fightlistB = pd.read_csv(\"input2.txt\",header=None,delim_whitespace=True,names=[\"Elf\",\"Result\"],converters=fightconvert)\n",
    "fightlistB[\"You\"] = (fightlistB.Elf+fightlistB.Result-1)%3\n",
    "fightlistB[\"Score\"] = 3*fightlistB.Result+fightlistB.You+1"
   ]
  },
  {
   "cell_type": "code",
   "execution_count": 14,
   "metadata": {},
   "outputs": [
    {
     "data": {
      "text/plain": [
       "10560"
      ]
     },
     "execution_count": 14,
     "metadata": {},
     "output_type": "execute_result"
    }
   ],
   "source": [
    "fightlistB.Score.sum()"
   ]
  },
  {
   "cell_type": "markdown",
   "metadata": {},
   "source": [
    "# Day 3"
   ]
  },
  {
   "cell_type": "code",
   "execution_count": 34,
   "metadata": {},
   "outputs": [],
   "source": [
    "with open(\"input3.txt\") as f:\n",
    "    rucksacks = []\n",
    "    while line := f.readline().strip():\n",
    "        n = len(line)//2\n",
    "        rucksacks.append(({c for c in line[:n]},{c for c in line[n:]}))"
   ]
  },
  {
   "cell_type": "code",
   "execution_count": 33,
   "metadata": {},
   "outputs": [],
   "source": [
    "def itempriority(c):\n",
    "    if c.isupper():\n",
    "        return 27+ord(c)-ord(\"A\")\n",
    "    else:\n",
    "        return 1+ord(c)-ord(\"a\")"
   ]
  },
  {
   "cell_type": "code",
   "execution_count": 54,
   "metadata": {},
   "outputs": [
    {
     "data": {
      "text/plain": [
       "7597"
      ]
     },
     "execution_count": 54,
     "metadata": {},
     "output_type": "execute_result"
    }
   ],
   "source": [
    "commonitem = (l.intersection(r).pop() for l,r in rucksacks)\n",
    "sum(map(itempriority,commonitem))"
   ]
  },
  {
   "cell_type": "code",
   "execution_count": 53,
   "metadata": {},
   "outputs": [
    {
     "data": {
      "text/plain": [
       "2607"
      ]
     },
     "execution_count": 53,
     "metadata": {},
     "output_type": "execute_result"
    }
   ],
   "source": [
    "fullrucksack = [l.union(r) for l,r in rucksacks]\n",
    "elvesgroups = [fullrucksack[k:k+3] for k in range(0,len(fullrucksack),3)]\n",
    "badges = [itempriority(a.intersection(b,c).pop()) for a,b,c in elvesgroups]\n",
    "sum(badges)"
   ]
  },
  {
   "cell_type": "markdown",
   "metadata": {},
   "source": [
    "# Day 4"
   ]
  },
  {
   "cell_type": "code",
   "execution_count": 69,
   "metadata": {},
   "outputs": [],
   "source": [
    "cleanpairs = pd.read_csv(\"input4.txt\",sep=\",|-\",header=None,names=[\"elf1min\",\"elf1max\",\"elf2min\",\"elf2max\"],engine='python')"
   ]
  },
  {
   "cell_type": "code",
   "execution_count": 72,
   "metadata": {},
   "outputs": [
    {
     "data": {
      "text/plain": [
       "466"
      ]
     },
     "execution_count": 72,
     "metadata": {},
     "output_type": "execute_result"
    }
   ],
   "source": [
    "cleanpairs[\"totaloverlap\"] = (cleanpairs.elf2min-cleanpairs.elf1min)*(cleanpairs.elf1max-cleanpairs.elf2max)>=0\n",
    "cleanpairs.totaloverlap.sum()"
   ]
  },
  {
   "cell_type": "code",
   "execution_count": 73,
   "metadata": {},
   "outputs": [
    {
     "data": {
      "text/plain": [
       "865"
      ]
     },
     "execution_count": 73,
     "metadata": {},
     "output_type": "execute_result"
    }
   ],
   "source": [
    "cleanpairs[\"overlap\"] = ~(((cleanpairs.elf2min-cleanpairs.elf1max)>0) | ((cleanpairs.elf1min-cleanpairs.elf2max)>0))\n",
    "cleanpairs.overlap.sum()"
   ]
  },
  {
   "cell_type": "markdown",
   "metadata": {},
   "source": [
    "# Day 5"
   ]
  },
  {
   "cell_type": "code",
   "execution_count": 94,
   "metadata": {},
   "outputs": [],
   "source": [
    "def getstacks(f):\n",
    "    stacks = {k :[] for k in range(1,10)}\n",
    "    line = f.readline().rstrip()\n",
    "    while line[1]!= \"1\":\n",
    "        for k,c in enumerate(line[1::4]):\n",
    "            if c!=\" \":\n",
    "                stacks[k+1].insert(0,c)\n",
    "        line = f.readline().rstrip()\n",
    "    f.readline()\n",
    "    return stacks\n",
    "\n",
    "def getinstructions(f):\n",
    "    instructions = []\n",
    "    while line:= f.readline().rstrip():\n",
    "        instructions.append(list(map(int, line.split(\" \")[1::2])))\n",
    "    return instructions"
   ]
  },
  {
   "cell_type": "code",
   "execution_count": 95,
   "metadata": {},
   "outputs": [
    {
     "name": "stdout",
     "output_type": "stream",
     "text": [
      "RTGWZTHLD\n"
     ]
    }
   ],
   "source": [
    "with open(\"input5.txt\") as f:\n",
    "    stacks = getstacks(f)\n",
    "    instructions = getinstructions(f)\n",
    "\n",
    "for n,f,t in instructions:\n",
    "    for _ in range(n):\n",
    "        stacks[t].append(stacks[f].pop())\n",
    "\n",
    "print(\"\".join(stacks[k][-1] for k in range(1,10)))"
   ]
  },
  {
   "cell_type": "code",
   "execution_count": 96,
   "metadata": {},
   "outputs": [
    {
     "name": "stdout",
     "output_type": "stream",
     "text": [
      "STHGRZZFR\n"
     ]
    }
   ],
   "source": [
    "with open(\"input5.txt\") as f:\n",
    "    stacks = getstacks(f)\n",
    "\n",
    "for n,f,t in instructions:\n",
    "    stacks[t] += stacks[f][-n:]\n",
    "    stacks[f] = stacks[f][:-n]\n",
    "\n",
    "print(\"\".join(stacks[k][-1] for k in range(1,10)))"
   ]
  },
  {
   "cell_type": "markdown",
   "metadata": {},
   "source": [
    "# Day 6"
   ]
  },
  {
   "cell_type": "code",
   "execution_count": 104,
   "metadata": {},
   "outputs": [],
   "source": [
    "with open(\"input6.txt\") as f:\n",
    "    dstream = f.readline().strip()"
   ]
  },
  {
   "cell_type": "code",
   "execution_count": 151,
   "metadata": {},
   "outputs": [],
   "source": [
    "class StartofPattern:\n",
    "    def __init__(self,stream,chunk=4):\n",
    "        self.chunk = chunk\n",
    "        self.packet = list(stream[:self.chunk])\n",
    "        self.pos = self.chunk\n",
    "\n",
    "    def findpacket(self,stream):\n",
    "        while len(set(self.packet))<self.chunk:\n",
    "            try:\n",
    "                self.packet[(self.pos)%self.chunk] = stream[self.pos]\n",
    "                self.pos+=1\n",
    "            except IndexError:\n",
    "                print(\"The stream ended without a SoP\")\n",
    "                return -1\n",
    "        return self.pos"
   ]
  },
  {
   "cell_type": "code",
   "execution_count": 152,
   "metadata": {},
   "outputs": [
    {
     "data": {
      "text/plain": [
       "1175"
      ]
     },
     "execution_count": 152,
     "metadata": {},
     "output_type": "execute_result"
    }
   ],
   "source": [
    "sop = StartofPattern(dstream,chunk=4)\n",
    "sop.findpacket(dstream)"
   ]
  },
  {
   "cell_type": "code",
   "execution_count": 153,
   "metadata": {},
   "outputs": [
    {
     "data": {
      "text/plain": [
       "3217"
      ]
     },
     "execution_count": 153,
     "metadata": {},
     "output_type": "execute_result"
    }
   ],
   "source": [
    "som = StartofPattern(dstream,chunk=14)\n",
    "som.findpacket(dstream)"
   ]
  },
  {
   "cell_type": "markdown",
   "metadata": {},
   "source": [
    "# Day 7"
   ]
  },
  {
   "cell_type": "code",
   "execution_count": 111,
   "metadata": {},
   "outputs": [],
   "source": [
    "class File:\n",
    "    def __init__(self,name :str, parent =None,size :int =0) -> None:\n",
    "        self.name =name\n",
    "        self.parent = parent\n",
    "        self._size = size\n",
    "\n",
    "    def __repr__(self) -> str:\n",
    "        return f\"File({self.name} in {self.parent.name if self.parent else None} (size={self._size}))\"\n",
    "\n",
    "    def size(self):\n",
    "        return self._size\n",
    "\n",
    "\n",
    "class Dir(File):\n",
    "    def __init__(self,name :str, parent=None) -> None:\n",
    "        File.__init__(self,name,parent)\n",
    "\n",
    "        self.contains = {}\n",
    "\n",
    "    def __repr__(self) -> str:\n",
    "        return f\"Dir({self.name} in {self.parent.name if self.parent else None} (contains {len(self.contains)} elements)\"\n",
    "\n",
    "    def size(self):\n",
    "        return sum(e.size() for e in self.contains.values())\n",
    "    def add(self,elem):\n",
    "        self.contains[elem.name] = elem\n"
   ]
  },
  {
   "cell_type": "markdown",
   "metadata": {},
   "source": []
  },
  {
   "cell_type": "code",
   "execution_count": 112,
   "metadata": {},
   "outputs": [],
   "source": [
    "root = Dir(\"/\")\n",
    "with open(\"input7.txt\") as f:\n",
    "    while line:= f.readline().rstrip():\n",
    "        if line[:4]==\"$ cd\":\n",
    "            destination = line.split(\" \")[-1]\n",
    "            if destination==\"..\":\n",
    "                curdir=curdir.parent\n",
    "            elif destination==\"/\":\n",
    "                curdir = root\n",
    "            else:\n",
    "                curdir=curdir.contains[destination]\n",
    "        elif line[:4]==\"$ ls\":\n",
    "            continue\n",
    "        else:\n",
    "            sd,name = line.split(\" \")\n",
    "            if sd==\"dir\":\n",
    "                curdir.add(Dir(name,curdir))\n",
    "            else:\n",
    "                sd= int(sd)\n",
    "                curdir.add(File(name,curdir,sd))\n",
    "\n",
    "\n"
   ]
  },
  {
   "cell_type": "code",
   "execution_count": 113,
   "metadata": {},
   "outputs": [],
   "source": [
    "def looksmalldirs(dir,maxsize=100000,smaldir=None):\n",
    "    if smaldir is None:\n",
    "        smaldir = set()\n",
    "    if dir.size()<=maxsize:\n",
    "        smaldir.add(dir)\n",
    "    for subdir in dir.contains.values():\n",
    "        if type(subdir) is Dir:\n",
    "            smaldir = looksmalldirs(subdir,maxsize,smaldir)\n",
    "    return smaldir\n",
    "def lookbigdirs(dir,minsize=100000,smaldir=None):\n",
    "    if smaldir is None:\n",
    "        smaldir = set()\n",
    "    if dir.size()>=minsize:\n",
    "        smaldir.add(dir)\n",
    "    for subdir in dir.contains.values():\n",
    "        if type(subdir) is Dir:\n",
    "            smaldir = lookbigdirs(subdir,minsize,smaldir)\n",
    "    return smaldir"
   ]
  },
  {
   "cell_type": "code",
   "execution_count": 114,
   "metadata": {},
   "outputs": [
    {
     "data": {
      "text/plain": [
       "1783610"
      ]
     },
     "execution_count": 114,
     "metadata": {},
     "output_type": "execute_result"
    }
   ],
   "source": [
    "smoldir = looksmalldirs(root,maxsize=100000)\n",
    "sum(map(Dir.size,smoldir))"
   ]
  },
  {
   "cell_type": "code",
   "execution_count": 115,
   "metadata": {},
   "outputs": [
    {
     "data": {
      "text/plain": [
       "4370655"
      ]
     },
     "execution_count": 115,
     "metadata": {},
     "output_type": "execute_result"
    }
   ],
   "source": [
    "totaldiskspace = 70000000\n",
    "neededunusedspace = 30000000\n",
    "\n",
    "todelete = neededunusedspace-(totaldiskspace-root.size())\n",
    "\n",
    "bigdir = lookbigdirs(root,minsize=todelete)\n",
    "min(map(Dir.size,bigdir))"
   ]
  },
  {
   "cell_type": "markdown",
   "metadata": {},
   "source": [
    "# Day 8"
   ]
  },
  {
   "cell_type": "code",
   "execution_count": 123,
   "metadata": {},
   "outputs": [],
   "source": [
    "import cmasher as cmr"
   ]
  },
  {
   "cell_type": "code",
   "execution_count": 293,
   "metadata": {},
   "outputs": [],
   "source": [
    "forex = \"\"\"30373\n",
    "25512\n",
    "65332\n",
    "33549\n",
    "35390\"\"\"\n",
    "forest = np.array([list(map(int,line)) for line in forex.splitlines()])\n",
    "forestpad = np.pad(forest,1,\"constant\",constant_values=-1)"
   ]
  },
  {
   "cell_type": "code",
   "execution_count": 306,
   "metadata": {},
   "outputs": [],
   "source": [
    "with open(\"input8.txt\") as f:\n",
    "    forest = np.array([list(map(int,line)) for line in f.read().splitlines()])\n",
    "forestpad = np.pad(forest,1,\"constant\",constant_values=-1)"
   ]
  },
  {
   "cell_type": "code",
   "execution_count": 321,
   "metadata": {},
   "outputs": [
    {
     "data": {
      "text/plain": [
       "(-0.5, 98.5, 98.5, -0.5)"
      ]
     },
     "execution_count": 321,
     "metadata": {},
     "output_type": "execute_result"
    },
    {
     "data": {
      "image/png": "[encoded data removed]",
      "text/plain": [
       "<Figure size 432x432 with 1 Axes>"
      ]
     },
     "metadata": {
      "image/png": {
       "height": 340,
       "width": 340
      },
      "needs_background": "light"
     },
     "output_type": "display_data"
    }
   ],
   "source": [
    "fig,ax = plt.subplots(figsize=(6,6))\n",
    "ax.imshow(forest,cmap=\"cmr.tree\")\n",
    "ax.axis('off')"
   ]
  },
  {
   "cell_type": "code",
   "execution_count": 168,
   "metadata": {},
   "outputs": [],
   "source": [
    "visible = np.zeros_like(forestpad,dtype=bool)\n",
    "for k in range(1,forestpad.shape[0]-1):\n",
    "    htreeE = forestpad[:,:k].max(axis=1)\n",
    "    htreeW = forestpad[:,k+1:].max(axis=1)\n",
    "    visible[:,k] = visible[:,k] | (forestpad[:,k]>np.minimum(htreeE,htreeW))\n",
    "for k in range(1,forestpad.shape[1]-1):\n",
    "    htreeN = forestpad[:k].max(axis=0)\n",
    "    htreeS = forestpad[k+1:].max(axis=0)\n",
    "    visible[k] = visible[k] | (forestpad[k]>np.minimum(htreeN,htreeS))"
   ]
  },
  {
   "cell_type": "code",
   "execution_count": 322,
   "metadata": {},
   "outputs": [
    {
     "name": "stdout",
     "output_type": "stream",
     "text": [
      "Visible trees : 1851\n"
     ]
    },
    {
     "data": {
      "image/png": "[encoded data removed]",
      "text/plain": [
       "<Figure size 432x432 with 1 Axes>"
      ]
     },
     "metadata": {
      "image/png": {
       "height": 340,
       "width": 340
      },
      "needs_background": "light"
     },
     "output_type": "display_data"
    }
   ],
   "source": [
    "fig,ax = plt.subplots(figsize=(6,6))\n",
    "ax.imshow(visible[1:-1,1:-1],cmap=\"cmr.eclipse\",)\n",
    "ax.axis('off')\n",
    "print(f\"Visible trees : {visible.sum()}\")"
   ]
  },
  {
   "cell_type": "code",
   "execution_count": 324,
   "metadata": {},
   "outputs": [
    {
     "name": "stdout",
     "output_type": "stream",
     "text": [
      "Highest scenic view : 574080\n"
     ]
    }
   ],
   "source": [
    "scenicview = np.pad(np.ones_like(forest[1:-1,1:-1],dtype=int),1)\n",
    "for k in range(1,forest.shape[1]-1):\n",
    "    treeE =forest[:,k,np.newaxis] <= forest[:,k::-1]\n",
    "    treeE[:,0]=False\n",
    "    distanceE = np.argmax(treeE,axis=1)\n",
    "    distanceE[distanceE==0] = k\n",
    "    treeW =forest[:,k,np.newaxis] <= forest[:,k:]\n",
    "    treeW[:,0]=False\n",
    "    distanceW = np.argmax(treeW,axis=1)\n",
    "    distanceW[distanceW==0] = forest.shape[1]-1-k\n",
    "    scenicview[:,k]*=distanceW*distanceE\n",
    "\n",
    "for k in range(1,forest.shape[0]-1):\n",
    "    treeN =forest[k,np.newaxis] <= forest[k::-1]\n",
    "    treeN[0]=False\n",
    "    distanceN = np.argmax(treeN,axis=0)\n",
    "    distanceN[distanceN==0] = k\n",
    "    treeS =forest[k,np.newaxis] <= forest[k:]\n",
    "    treeS[0]=False\n",
    "    distanceS = np.argmax(treeS,axis=0)\n",
    "    distanceS[distanceS==0] = forest.shape[0]-1-k\n",
    "    scenicview[k]*=distanceS*distanceN\n",
    "\n",
    "print(f\"Highest scenic view : {np.max(scenicview)}\")"
   ]
  },
  {
   "cell_type": "code",
   "execution_count": 326,
   "metadata": {},
   "outputs": [
    {
     "data": {
      "text/plain": [
       "(-0.5, 98.5, 98.5, -0.5)"
      ]
     },
     "execution_count": 326,
     "metadata": {},
     "output_type": "execute_result"
    },
    {
     "data": {
      "image/png": "[encoded data removed]",
      "text/plain": [
       "<Figure size 432x432 with 1 Axes>"
      ]
     },
     "metadata": {
      "image/png": {
       "height": 340,
       "width": 340
      },
      "needs_background": "light"
     },
     "output_type": "display_data"
    }
   ],
   "source": [
    "import matplotlib.colors as colors\n",
    "fig,ax = plt.subplots(figsize=(6,6))\n",
    "plt.imshow(scenicview,norm=colors.LogNorm(vmin=1, vmax=scenicview.max()),cmap=\"cmr.eclipse\")\n",
    "plt.axis(\"off\")\n",
    "# plt.colorbar()\n",
    "# plt.title(\"Scenic view\")"
   ]
  },
  {
   "cell_type": "markdown",
   "metadata": {},
   "source": [
    "# Day 9"
   ]
  },
  {
   "cell_type": "code",
   "execution_count": 134,
   "metadata": {},
   "outputs": [
    {
     "data": {
      "text/plain": [
       "array([], shape=(99, 0), dtype=int64)"
      ]
     },
     "execution_count": 134,
     "metadata": {},
     "output_type": "execute_result"
    }
   ],
   "source": [
    "forestpad[:,:k]"
   ]
  },
  {
   "cell_type": "code",
   "execution_count": null,
   "metadata": {},
   "outputs": [],
   "source": []
  }
 ],
 "metadata": {
  "kernelspec": {
   "display_name": "Python 3.9.4 ('py39')",
   "language": "python",
   "name": "python3"
  },
  "language_info": {
   "codemirror_mode": {
    "name": "ipython",
    "version": 3
   },
   "file_extension": ".py",
   "mimetype": "text/x-python",
   "name": "python",
   "nbconvert_exporter": "python",
   "pygments_lexer": "ipython3",
   "version": "3.9.4"
  },
  "orig_nbformat": 4,
  "vscode": {
   "interpreter": {
    "hash": "72e7cecce6db180202885ddea1f75d8879b9db18c01204ae75dca340c8e6ec71"
   }
  }
 },
 "nbformat": 4,
 "nbformat_minor": 2
}
