{
 "cells": [
  {
   "cell_type": "code",
   "execution_count": 1,
   "metadata": {},
   "outputs": [],
   "source": [
    "#My default packages\n",
    "\n",
    "import numpy as np\n",
    "import pandas as pd\n",
    "import matplotlib.pyplot as plt\n",
    "import matplotlib.animation as animation\n",
    "\n",
    "%matplotlib inline\n",
    "%config InlineBackend.figure_format = 'retina'\n",
    "\n",
    "from dataclasses import dataclass\n",
    "import itertools\n",
    "import heapq\n"
   ]
  },
  {
   "cell_type": "markdown",
   "metadata": {},
   "source": [
    "# Day 1"
   ]
  },
  {
   "cell_type": "code",
   "execution_count": 2,
   "metadata": {},
   "outputs": [],
   "source": [
    "with open(\"input1.txt\") as f:\n",
    "    file = f.read()\n",
    "    calories = [[int(c) for c in s.split(\"\\n\")] for s in file.split(\"\\n\\n\")[:-1]]"
   ]
  },
  {
   "cell_type": "code",
   "execution_count": 3,
   "metadata": {},
   "outputs": [
    {
     "data": {
      "text/plain": [
       "70369"
      ]
     },
     "execution_count": 3,
     "metadata": {},
     "output_type": "execute_result"
    }
   ],
   "source": [
    "calbyelf = [sum(elf) for elf in calories]\n",
    "max(calbyelf)"
   ]
  },
  {
   "cell_type": "code",
   "execution_count": 4,
   "metadata": {},
   "outputs": [
    {
     "data": {
      "text/plain": [
       "203002"
      ]
     },
     "execution_count": 4,
     "metadata": {},
     "output_type": "execute_result"
    }
   ],
   "source": [
    "sum(sorted(calbyelf)[-3:])"
   ]
  },
  {
   "cell_type": "markdown",
   "metadata": {},
   "source": [
    "# Day 2"
   ]
  },
  {
   "cell_type": "code",
   "execution_count": 10,
   "metadata": {},
   "outputs": [],
   "source": [
    "def elfconv(c):\n",
    "    return next(i for i, el in enumerate([\"A\",\"B\",\"C\"]) if el ==c)\n",
    "\n",
    "def youconv(c):\n",
    "    return next(i for i, el in enumerate([\"X\",\"Y\",\"Z\"]) if el ==c)\n",
    "\n",
    "def genconv(c):\n",
    "    RPS = {\"A\":0,\"B\":1,\"C\":2,\"X\":0,\"Y\":1,\"Z\":2}\n",
    "    return RPS[c]\n",
    "\n",
    "fightconvert ={\n",
    "    0: genconv,\n",
    "    1: genconv\n",
    "}"
   ]
  },
  {
   "cell_type": "code",
   "execution_count": 11,
   "metadata": {},
   "outputs": [],
   "source": [
    "fightlistA = pd.read_csv(\"input2.txt\",header=None,delim_whitespace=True,names=[\"Elf\",\"You\"],converters=fightconvert)\n",
    "fightlistA[\"Result\"] = ((fightlistA.You-fightlistA.Elf+1)%3)\n",
    "fightlistA[\"Score\"] = 3*fightlistA.Result+fightlistA.You+1"
   ]
  },
  {
   "cell_type": "code",
   "execution_count": 12,
   "metadata": {},
   "outputs": [
    {
     "data": {
      "text/plain": [
       "9651"
      ]
     },
     "execution_count": 12,
     "metadata": {},
     "output_type": "execute_result"
    }
   ],
   "source": [
    "fightlistA.Score.sum()"
   ]
  },
  {
   "cell_type": "code",
   "execution_count": 13,
   "metadata": {},
   "outputs": [],
   "source": [
    "fightlistB = pd.read_csv(\"input2.txt\",header=None,delim_whitespace=True,names=[\"Elf\",\"Result\"],converters=fightconvert)\n",
    "fightlistB[\"You\"] = (fightlistB.Elf+fightlistB.Result-1)%3\n",
    "fightlistB[\"Score\"] = 3*fightlistB.Result+fightlistB.You+1"
   ]
  },
  {
   "cell_type": "code",
   "execution_count": 14,
   "metadata": {},
   "outputs": [
    {
     "data": {
      "text/plain": [
       "10560"
      ]
     },
     "execution_count": 14,
     "metadata": {},
     "output_type": "execute_result"
    }
   ],
   "source": [
    "fightlistB.Score.sum()"
   ]
  },
  {
   "cell_type": "markdown",
   "metadata": {},
   "source": [
    "# Day 3"
   ]
  },
  {
   "cell_type": "code",
   "execution_count": 34,
   "metadata": {},
   "outputs": [],
   "source": [
    "with open(\"input3.txt\") as f:\n",
    "    rucksacks = []\n",
    "    while line := f.readline().strip():\n",
    "        n = len(line)//2\n",
    "        rucksacks.append(({c for c in line[:n]},{c for c in line[n:]}))"
   ]
  },
  {
   "cell_type": "code",
   "execution_count": 33,
   "metadata": {},
   "outputs": [],
   "source": [
    "def itempriority(c):\n",
    "    if c.isupper():\n",
    "        return 27+ord(c)-ord(\"A\")\n",
    "    else:\n",
    "        return 1+ord(c)-ord(\"a\")"
   ]
  },
  {
   "cell_type": "code",
   "execution_count": 54,
   "metadata": {},
   "outputs": [
    {
     "data": {
      "text/plain": [
       "7597"
      ]
     },
     "execution_count": 54,
     "metadata": {},
     "output_type": "execute_result"
    }
   ],
   "source": [
    "commonitem = (l.intersection(r).pop() for l,r in rucksacks)\n",
    "sum(map(itempriority,commonitem))"
   ]
  },
  {
   "cell_type": "code",
   "execution_count": 53,
   "metadata": {},
   "outputs": [
    {
     "data": {
      "text/plain": [
       "2607"
      ]
     },
     "execution_count": 53,
     "metadata": {},
     "output_type": "execute_result"
    }
   ],
   "source": [
    "fullrucksack = [l.union(r) for l,r in rucksacks]\n",
    "elvesgroups = [fullrucksack[k:k+3] for k in range(0,len(fullrucksack),3)]\n",
    "badges = [itempriority(a.intersection(b,c).pop()) for a,b,c in elvesgroups]\n",
    "sum(badges)"
   ]
  },
  {
   "cell_type": "markdown",
   "metadata": {},
   "source": [
    "# Day 4"
   ]
  },
  {
   "cell_type": "code",
   "execution_count": 69,
   "metadata": {},
   "outputs": [],
   "source": [
    "cleanpairs = pd.read_csv(\"input4.txt\",sep=\",|-\",header=None,names=[\"elf1min\",\"elf1max\",\"elf2min\",\"elf2max\"],engine='python')"
   ]
  },
  {
   "cell_type": "code",
   "execution_count": 72,
   "metadata": {},
   "outputs": [
    {
     "data": {
      "text/plain": [
       "466"
      ]
     },
     "execution_count": 72,
     "metadata": {},
     "output_type": "execute_result"
    }
   ],
   "source": [
    "cleanpairs[\"totaloverlap\"] = (cleanpairs.elf2min-cleanpairs.elf1min)*(cleanpairs.elf1max-cleanpairs.elf2max)>=0\n",
    "cleanpairs.totaloverlap.sum()"
   ]
  },
  {
   "cell_type": "code",
   "execution_count": 73,
   "metadata": {},
   "outputs": [
    {
     "data": {
      "text/plain": [
       "865"
      ]
     },
     "execution_count": 73,
     "metadata": {},
     "output_type": "execute_result"
    }
   ],
   "source": [
    "cleanpairs[\"overlap\"] = ~(((cleanpairs.elf2min-cleanpairs.elf1max)>0) | ((cleanpairs.elf1min-cleanpairs.elf2max)>0))\n",
    "cleanpairs.overlap.sum()"
   ]
  },
  {
   "cell_type": "markdown",
   "metadata": {},
   "source": [
    "# Day 5"
   ]
  },
  {
   "cell_type": "code",
   "execution_count": 94,
   "metadata": {},
   "outputs": [],
   "source": [
    "def getstacks(f):\n",
    "    stacks = {k :[] for k in range(1,10)}\n",
    "    line = f.readline().rstrip()\n",
    "    while line[1]!= \"1\":\n",
    "        for k,c in enumerate(line[1::4]):\n",
    "            if c!=\" \":\n",
    "                stacks[k+1].insert(0,c)\n",
    "        line = f.readline().rstrip()\n",
    "    f.readline()\n",
    "    return stacks\n",
    "\n",
    "def getinstructions(f):\n",
    "    instructions = []\n",
    "    while line:= f.readline().rstrip():\n",
    "        instructions.append(list(map(int, line.split(\" \")[1::2])))\n",
    "    return instructions"
   ]
  },
  {
   "cell_type": "code",
   "execution_count": 95,
   "metadata": {},
   "outputs": [
    {
     "name": "stdout",
     "output_type": "stream",
     "text": [
      "RTGWZTHLD\n"
     ]
    }
   ],
   "source": [
    "with open(\"input5.txt\") as f:\n",
    "    stacks = getstacks(f)\n",
    "    instructions = getinstructions(f)\n",
    "\n",
    "for n,f,t in instructions:\n",
    "    for _ in range(n):\n",
    "        stacks[t].append(stacks[f].pop())\n",
    "\n",
    "print(\"\".join(stacks[k][-1] for k in range(1,10)))"
   ]
  },
  {
   "cell_type": "code",
   "execution_count": 96,
   "metadata": {},
   "outputs": [
    {
     "name": "stdout",
     "output_type": "stream",
     "text": [
      "STHGRZZFR\n"
     ]
    }
   ],
   "source": [
    "with open(\"input5.txt\") as f:\n",
    "    stacks = getstacks(f)\n",
    "\n",
    "for n,f,t in instructions:\n",
    "    stacks[t] += stacks[f][-n:]\n",
    "    stacks[f] = stacks[f][:-n]\n",
    "\n",
    "print(\"\".join(stacks[k][-1] for k in range(1,10)))"
   ]
  },
  {
   "cell_type": "markdown",
   "metadata": {},
   "source": [
    "# Day 6"
   ]
  },
  {
   "cell_type": "code",
   "execution_count": 104,
   "metadata": {},
   "outputs": [],
   "source": [
    "with open(\"input6.txt\") as f:\n",
    "    dstream = f.readline().strip()"
   ]
  },
  {
   "cell_type": "code",
   "execution_count": 135,
   "metadata": {},
   "outputs": [],
   "source": [
    "@dataclass\n",
    "class StartofPattern:\n",
    "    packet:list[str]\n",
    "    pos :int\n",
    "    chunk:int\n",
    "\n",
    "    def __init__(self,stream,chunk=4):\n",
    "        self.chunk = chunk\n",
    "        self.packet = list(stream[:self.chunk])\n",
    "        self.pos = self.chunk\n",
    "        if len(set(self.packet))==self.chunk:\n",
    "            print(\"Initialization found Start of Packet : Pos is 4\")\n",
    "\n",
    "    def findpacket(self,stream):\n",
    "        while len(set(self.packet))<self.chunk:\n",
    "            \n",
    "            try:\n",
    "                self.packet[(self.pos)%self.chunk] = stream[self.pos]\n",
    "                self.pos+=1\n",
    "            except IndexError:\n",
    "                print(\"The stream ended without a SoP\")\n",
    "                return -1\n",
    "\n",
    "        return self.pos\n"
   ]
  },
  {
   "cell_type": "code",
   "execution_count": 136,
   "metadata": {},
   "outputs": [
    {
     "data": {
      "text/plain": [
       "1175"
      ]
     },
     "execution_count": 136,
     "metadata": {},
     "output_type": "execute_result"
    }
   ],
   "source": [
    "sop = StartofPattern(dstream,chunk=4)\n",
    "sop.findpacket(dstream)"
   ]
  },
  {
   "cell_type": "code",
   "execution_count": 137,
   "metadata": {},
   "outputs": [
    {
     "data": {
      "text/plain": [
       "3217"
      ]
     },
     "execution_count": 137,
     "metadata": {},
     "output_type": "execute_result"
    }
   ],
   "source": [
    "som = StartofPattern(dstream,chunk=14)\n",
    "som.findpacket(dstream)"
   ]
  },
  {
   "cell_type": "markdown",
   "metadata": {},
   "source": [
    "# Day 7"
   ]
  },
  {
   "cell_type": "code",
   "execution_count": null,
   "metadata": {},
   "outputs": [],
   "source": []
  },
  {
   "cell_type": "markdown",
   "metadata": {},
   "source": [
    "# Day 8"
   ]
  },
  {
   "cell_type": "code",
   "execution_count": null,
   "metadata": {},
   "outputs": [],
   "source": []
  },
  {
   "cell_type": "markdown",
   "metadata": {},
   "source": [
    "# Day 9"
   ]
  },
  {
   "cell_type": "code",
   "execution_count": null,
   "metadata": {},
   "outputs": [],
   "source": []
  }
 ],
 "metadata": {
  "kernelspec": {
   "display_name": "Python 3.9.4 ('py39')",
   "language": "python",
   "name": "python3"
  },
  "language_info": {
   "codemirror_mode": {
    "name": "ipython",
    "version": 3
   },
   "file_extension": ".py",
   "mimetype": "text/x-python",
   "name": "python",
   "nbconvert_exporter": "python",
   "pygments_lexer": "ipython3",
   "version": "3.9.4"
  },
  "orig_nbformat": 4,
  "vscode": {
   "interpreter": {
    "hash": "72e7cecce6db180202885ddea1f75d8879b9db18c01204ae75dca340c8e6ec71"
   }
  }
 },
 "nbformat": 4,
 "nbformat_minor": 2
}
