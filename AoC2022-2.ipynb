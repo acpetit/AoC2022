{
 "cells": [
  {
   "cell_type": "code",
   "execution_count": 2,
   "metadata": {},
   "outputs": [],
   "source": [
    "#My default packages\n",
    "\n",
    "import numpy as np\n",
    "import pandas as pd\n",
    "import matplotlib.pyplot as plt\n",
    "import matplotlib.animation as animation\n",
    "\n",
    "%matplotlib inline\n",
    "%config InlineBackend.figure_format = 'retina'\n",
    "\n",
    "from dataclasses import dataclass\n",
    "import itertools\n",
    "import heapq\n"
   ]
  },
  {
   "attachments": {},
   "cell_type": "markdown",
   "metadata": {},
   "source": [
    "# Day 2"
   ]
  },
  {
   "cell_type": "code",
   "execution_count": 5,
   "metadata": {},
   "outputs": [],
   "source": [
    "def elfconv(c):\n",
    "    return next(i for i, el in enumerate([\"A\",\"B\",\"C\"]) if el ==c)\n",
    "\n",
    "def youconv(c):\n",
    "    return next(i for i, el in enumerate([\"X\",\"Y\",\"Z\"]) if el ==c)\n",
    "\n",
    "def genconv(c):\n",
    "    RPS = {\"A\":0,\"B\":1,\"C\":2,\"X\":0,\"Y\":1,\"Z\":2}\n",
    "    return RPS[c]\n",
    "\n",
    "fightconvert ={\n",
    "    0: genconv,\n",
    "    1: genconv\n",
    "}"
   ]
  },
  {
   "cell_type": "code",
   "execution_count": 6,
   "metadata": {},
   "outputs": [],
   "source": [
    "fightlistA = pd.read_csv(\"input2.txt\",header=None,delim_whitespace=True,names=[\"Elf\",\"You\"],converters=fightconvert)\n",
    "fightlistA[\"Result\"] = ((fightlistA.You-fightlistA.Elf+1)%3)\n",
    "fightlistA[\"Score\"] = 3*fightlistA.Result+fightlistA.You+1"
   ]
  },
  {
   "cell_type": "code",
   "execution_count": 7,
   "metadata": {},
   "outputs": [
    {
     "data": {
      "text/plain": [
       "9651"
      ]
     },
     "execution_count": 7,
     "metadata": {},
     "output_type": "execute_result"
    }
   ],
   "source": [
    "fightlistA.Score.sum()"
   ]
  },
  {
   "cell_type": "code",
   "execution_count": 8,
   "metadata": {},
   "outputs": [],
   "source": [
    "fightlistB = pd.read_csv(\"input2.txt\",header=None,delim_whitespace=True,names=[\"Elf\",\"Result\"],converters=fightconvert)\n",
    "fightlistB[\"You\"] = (fightlistB.Elf+fightlistB.Result-1)%3\n",
    "fightlistB[\"Score\"] = 3*fightlistB.Result+fightlistB.You+1"
   ]
  },
  {
   "cell_type": "code",
   "execution_count": 9,
   "metadata": {},
   "outputs": [
    {
     "data": {
      "text/plain": [
       "10560"
      ]
     },
     "execution_count": 9,
     "metadata": {},
     "output_type": "execute_result"
    }
   ],
   "source": [
    "fightlistB.Score.sum()"
   ]
  }
 ],
 "metadata": {
  "kernelspec": {
   "display_name": "Python 3.11.0",
   "language": "python",
   "name": "python3"
  },
  "language_info": {
   "codemirror_mode": {
    "name": "ipython",
    "version": 3
   },
   "file_extension": ".py",
   "mimetype": "text/x-python",
   "name": "python",
   "nbconvert_exporter": "python",
   "pygments_lexer": "ipython3",
   "version": "3.11.0"
  },
  "vscode": {
   "interpreter": {
    "hash": "40ccaff05b52072d4f8eabac3df5900fe0a79a9a98d891785a410914ef6bf60b"
   }
  }
 },
 "nbformat": 4,
 "nbformat_minor": 2
}
