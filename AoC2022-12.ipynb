{
 "cells": [
  {
   "cell_type": "code",
   "execution_count": 6,
   "metadata": {},
   "outputs": [],
   "source": [
    "#My default packages\n",
    "\n",
    "import numpy as np\n",
    "import pandas as pd\n",
    "import matplotlib.pyplot as plt\n",
    "import matplotlib.animation as animation\n",
    "\n",
    "%matplotlib inline\n",
    "%config InlineBackend.figure_format = 'retina'\n",
    "\n",
    "from dataclasses import dataclass\n",
    "import itertools\n",
    "import heapq\n"
   ]
  },
  {
   "attachments": {},
   "cell_type": "markdown",
   "metadata": {},
   "source": [
    "# Day 12"
   ]
  },
  {
   "cell_type": "code",
   "execution_count": 79,
   "metadata": {},
   "outputs": [],
   "source": [
    "with open(\"input12.txt\") as f:\n",
    "    carte = np.array([list(line.rstrip()) for line in f.readlines()])\n",
    "heights = np.array([[ord(c)-ord(\"a\") for c in row] for row in carte])\n",
    "heights[carte==\"S\"] = 0\n",
    "heights[carte==\"E\"] = 25\n",
    "iS,jS = np.argmax(carte[:,0]==\"S\"),0\n",
    "iE,jE = 20,np.argmax(carte[20]==\"E\")"
   ]
  },
  {
   "cell_type": "code",
   "execution_count": 26,
   "metadata": {},
   "outputs": [
    {
     "data": {
      "text/plain": [
       "(-0.5, 160.5, 40.5, -0.5)"
      ]
     },
     "execution_count": 26,
     "metadata": {},
     "output_type": "execute_result"
    },
    {
     "data": {
      "image/png": "[encoded data removed]",
      "text/plain": [
       "<Figure size 640x480 with 1 Axes>"
      ]
     },
     "metadata": {
      "image/png": {
       "height": 146,
       "width": 515
      }
     },
     "output_type": "display_data"
    }
   ],
   "source": [
    "plt.imshow(heights)\n",
    "plt.axis(\"off\")"
   ]
  },
  {
   "cell_type": "code",
   "execution_count": 56,
   "metadata": {},
   "outputs": [],
   "source": [
    "from typing import Tuple\n",
    "@dataclass\n",
    "class JungleVertex: #Good DJ name\n",
    "    key: Tuple[int]\n",
    "    letter : str\n",
    "    height :int \n",
    "    prev : Tuple[int] = None\n",
    "    distance :int = np.inf\n",
    "    visited :bool = False\n",
    "\n",
    "    def __lt__(self,b):\n",
    "        return self.visited<b.visited or (self.visited ==b.visited and self.distance<b.distance) or (self.visited ==b.visited and self.distance==b.distance and self.height<b.height)"
   ]
  },
  {
   "cell_type": "code",
   "execution_count": 186,
   "metadata": {},
   "outputs": [],
   "source": [
    "def JungleDijkstra(carte,heights,start):\n",
    "    N,M = carte.shape\n",
    "    vertices = {(i,j): JungleVertex((i,j),carte[i,j],heights[i,j]) for (i,j) in itertools.product(range(N),range(M))}\n",
    "\n",
    "    vertices[start].distance=0\n",
    "    queue = sorted(list(vertices.values()))\n",
    "    while queue:\n",
    "\n",
    "        v = queue.pop(0)\n",
    "        if not np.isfinite(v.distance):\n",
    "            return vertices\n",
    "        v.visited = True\n",
    "        \n",
    "        i,j = v.key\n",
    "        neighbours = (vertices[(ip,jp)] for ip,jp in [(i-1,j),(i+1,j),(i,j-1),(i,j+1)] if  0<=ip and ip<N and jp>=0 and jp<M and not vertices[(ip,jp)].visited)\n",
    "        for vn in neighbours:\n",
    "\n",
    "            if (vn.height-v.height)<=1:\n",
    "                newdist = v.distance+1\n",
    "                if newdist<vn.distance:\n",
    "                    vn.distance = newdist\n",
    "                    vn.prev = (i,j)\n",
    "            # else:\n",
    "            #     print(\"Fail\", vn.height-v.height,vn)\n",
    "        queue.sort()\n",
    "        # print(v,len(queue))\n",
    "\n",
    "    return vertices"
   ]
  },
  {
   "cell_type": "code",
   "execution_count": 187,
   "metadata": {},
   "outputs": [],
   "source": [
    "jungle =JungleDijkstra(carte,heights,(iS,jS))"
   ]
  },
  {
   "cell_type": "code",
   "execution_count": 192,
   "metadata": {},
   "outputs": [
    {
     "data": {
      "text/plain": [
       "(-0.5, 160.5, 40.5, -0.5)"
      ]
     },
     "execution_count": 192,
     "metadata": {},
     "output_type": "execute_result"
    },
    {
     "data": {
      "image/png": "[encoded data removed]",
      "text/plain": [
       "<Figure size 640x480 with 1 Axes>"
      ]
     },
     "metadata": {
      "image/png": {
       "height": 146,
       "width": 515
      }
     },
     "output_type": "display_data"
    }
   ],
   "source": [
    "plt.imshow(np.array([[jungle[i,j].distance for j in range(carte.shape[1])] for i in range(carte.shape[0]) ]))\n",
    "plt.axis(\"off\")\n"
   ]
  },
  {
   "cell_type": "code",
   "execution_count": 190,
   "metadata": {},
   "outputs": [
    {
     "data": {
      "text/plain": [
       "481"
      ]
     },
     "execution_count": 190,
     "metadata": {},
     "output_type": "execute_result"
    }
   ],
   "source": [
    "jungle[iE,jE].distance"
   ]
  },
  {
   "cell_type": "code",
   "execution_count": 152,
   "metadata": {},
   "outputs": [],
   "source": [
    "def JungleDijkstra_hikingtrail(carte,heights,start): #we start from E and stop if a node of distance a is reached\n",
    "    N,M = carte.shape\n",
    "    vertices = {(i,j): JungleVertex((i,j),carte[i,j],heights[i,j]) for (i,j) in itertools.product(range(N),range(M))}\n",
    "\n",
    "    vertices[start].distance=0\n",
    "    queue = sorted(list(vertices.values()))\n",
    "    while queue:\n",
    "\n",
    "        v = queue.pop(0)\n",
    "        if not np.isfinite(v.distance):\n",
    "            print(\"Big fail\")\n",
    "            return vertices\n",
    "        elif v.letter == \"a\":\n",
    "            print(\"Success\")\n",
    "            return v,vertices\n",
    "        v.visited = True\n",
    "        \n",
    "        i,j = v.key\n",
    "        neighbours = (vertices[(ip,jp)] for ip,jp in [(i-1,j),(i+1,j),(i,j-1),(i,j+1)] if  0<=ip and ip<N and jp>=0 and jp<M and not vertices[(ip,jp)].visited)\n",
    "        for vn in neighbours:\n",
    "\n",
    "            if (v.height-vn.height)<=1: #reverse search\n",
    "                newdist = v.distance+1\n",
    "                if newdist<vn.distance:\n",
    "                    vn.distance = newdist\n",
    "                    vn.prev = (i,j)\n",
    "            # else:\n",
    "            #     print(\"Fail\", vn.height-v.height,vn)\n",
    "        queue.sort()\n",
    "        # print(v,len(queue))\n",
    "\n",
    "    return vertices"
   ]
  },
  {
   "cell_type": "code",
   "execution_count": 185,
   "metadata": {},
   "outputs": [
    {
     "name": "stdout",
     "output_type": "stream",
     "text": [
      "Success\n"
     ]
    },
    {
     "data": {
      "text/plain": [
       "480"
      ]
     },
     "execution_count": 185,
     "metadata": {},
     "output_type": "execute_result"
    }
   ],
   "source": [
    "start,jungle = JungleDijkstra_hikingtrail(carte,heights,(iE,jE))\n",
    "start.distance"
   ]
  },
  {
   "cell_type": "code",
   "execution_count": 180,
   "metadata": {},
   "outputs": [],
   "source": [
    "hikingtrail = [start.key]\n",
    "v = start\n",
    "while v.letter != \"E\":\n",
    "    v=jungle[v.prev]\n",
    "    hikingtrail.append(v.key)\n",
    "hikingtrail = np.array(hikingtrail).T[::-1]"
   ]
  },
  {
   "cell_type": "code",
   "execution_count": 183,
   "metadata": {},
   "outputs": [
    {
     "data": {
      "text/plain": [
       "(-0.5, 160.5, 40.5, -0.5)"
      ]
     },
     "execution_count": 183,
     "metadata": {},
     "output_type": "execute_result"
    },
    {
     "data": {
      "image/png": "[encoded data removed]",
      "text/plain": [
       "<Figure size 640x480 with 1 Axes>"
      ]
     },
     "metadata": {
      "image/png": {
       "height": 146,
       "width": 515
      }
     },
     "output_type": "display_data"
    }
   ],
   "source": [
    "plt.imshow(heights)\n",
    "plt.plot(*hikingtrail,c=\"tab:red\")\n",
    "plt.axis(\"off\")"
   ]
  },
  {
   "cell_type": "code",
   "execution_count": 184,
   "metadata": {},
   "outputs": [
    {
     "data": {
      "text/plain": [
       "(-0.5, 160.5, 40.5, -0.5)"
      ]
     },
     "execution_count": 184,
     "metadata": {},
     "output_type": "execute_result"
    },
    {
     "data": {
      "image/png": "[encoded data removed]",
      "text/plain": [
       "<Figure size 640x480 with 1 Axes>"
      ]
     },
     "metadata": {
      "image/png": {
       "height": 146,
       "width": 515
      }
     },
     "output_type": "display_data"
    }
   ],
   "source": [
    "plt.imshow(np.array([[jungle[i,j].distance for j in range(carte.shape[1])] for i in range(carte.shape[0]) ]))\n",
    "plt.axis(\"off\")\n"
   ]
  }
 ],
 "metadata": {
  "kernelspec": {
   "display_name": "Python 3.11.0",
   "language": "python",
   "name": "python3"
  },
  "language_info": {
   "codemirror_mode": {
    "name": "ipython",
    "version": 3
   },
   "file_extension": ".py",
   "mimetype": "text/x-python",
   "name": "python",
   "nbconvert_exporter": "python",
   "pygments_lexer": "ipython3",
   "version": "3.11.0 | packaged by conda-forge | (main, Oct 25 2022, 06:24:51) [Clang 14.0.4 ]"
  },
  "vscode": {
   "interpreter": {
    "hash": "40ccaff05b52072d4f8eabac3df5900fe0a79a9a98d891785a410914ef6bf60b"
   }
  }
 },
 "nbformat": 4,
 "nbformat_minor": 2
}
