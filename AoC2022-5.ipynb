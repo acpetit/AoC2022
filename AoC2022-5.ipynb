{
 "cells": [
  {
   "cell_type": "code",
   "execution_count": 2,
   "metadata": {},
   "outputs": [],
   "source": [
    "#My default packages\n",
    "\n",
    "import numpy as np\n",
    "import pandas as pd\n",
    "import matplotlib.pyplot as plt\n",
    "import matplotlib.animation as animation\n",
    "\n",
    "%matplotlib inline\n",
    "%config InlineBackend.figure_format = 'retina'\n",
    "\n",
    "from dataclasses import dataclass\n",
    "import itertools\n",
    "import heapq\n"
   ]
  },
  {
   "attachments": {},
   "cell_type": "markdown",
   "metadata": {},
   "source": [
    "# Day 5"
   ]
  },
  {
   "cell_type": "code",
   "execution_count": 17,
   "metadata": {},
   "outputs": [],
   "source": [
    "def getstacks(f):\n",
    "    stacks = {k :[] for k in range(1,10)}\n",
    "    line = f.readline().rstrip()\n",
    "    while line[1]!= \"1\":\n",
    "        for k,c in enumerate(line[1::4]):\n",
    "            if c!=\" \":\n",
    "                stacks[k+1].insert(0,c)\n",
    "        line = f.readline().rstrip()\n",
    "    f.readline()\n",
    "    return stacks\n",
    "\n",
    "def getinstructions(f):\n",
    "    instructions = []\n",
    "    while line:= f.readline().rstrip():\n",
    "        instructions.append(list(map(int, line.split(\" \")[1::2])))\n",
    "    return instructions"
   ]
  },
  {
   "cell_type": "code",
   "execution_count": 18,
   "metadata": {},
   "outputs": [
    {
     "name": "stdout",
     "output_type": "stream",
     "text": [
      "RTGWZTHLD\n"
     ]
    }
   ],
   "source": [
    "with open(\"input5.txt\") as f:\n",
    "    stacks = getstacks(f)\n",
    "    instructions = getinstructions(f)\n",
    "\n",
    "for n,f,t in instructions:\n",
    "    for _ in range(n):\n",
    "        stacks[t].append(stacks[f].pop())\n",
    "\n",
    "print(\"\".join(stacks[k][-1] for k in range(1,10)))"
   ]
  },
  {
   "cell_type": "code",
   "execution_count": 19,
   "metadata": {},
   "outputs": [
    {
     "name": "stdout",
     "output_type": "stream",
     "text": [
      "STHGRZZFR\n"
     ]
    }
   ],
   "source": [
    "with open(\"input5.txt\") as f:\n",
    "    stacks = getstacks(f)\n",
    "\n",
    "for n,f,t in instructions:\n",
    "    stacks[t] += stacks[f][-n:]\n",
    "    stacks[f] = stacks[f][:-n]\n",
    "\n",
    "print(\"\".join(stacks[k][-1] for k in range(1,10)))"
   ]
  }
 ],
 "metadata": {
  "kernelspec": {
   "display_name": "Python 3.11.0",
   "language": "python",
   "name": "python3"
  },
  "language_info": {
   "codemirror_mode": {
    "name": "ipython",
    "version": 3
   },
   "file_extension": ".py",
   "mimetype": "text/x-python",
   "name": "python",
   "nbconvert_exporter": "python",
   "pygments_lexer": "ipython3",
   "version": "3.11.0"
  },
  "vscode": {
   "interpreter": {
    "hash": "40ccaff05b52072d4f8eabac3df5900fe0a79a9a98d891785a410914ef6bf60b"
   }
  }
 },
 "nbformat": 4,
 "nbformat_minor": 2
}
