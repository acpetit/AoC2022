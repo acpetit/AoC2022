{
 "cells": [
  {
   "cell_type": "code",
   "execution_count": 1,
   "metadata": {},
   "outputs": [],
   "source": [
    "#My default packages\n",
    "\n",
    "import numpy as np\n",
    "import pandas as pd\n",
    "import matplotlib.pyplot as plt\n",
    "import matplotlib.animation as animation\n",
    "\n",
    "%matplotlib inline\n",
    "%config InlineBackend.figure_format = 'retina'\n",
    "\n",
    "from dataclasses import dataclass\n",
    "import itertools\n",
    "import heapq\n"
   ]
  },
  {
   "attachments": {},
   "cell_type": "markdown",
   "metadata": {},
   "source": [
    "# Day 17"
   ]
  },
  {
   "cell_type": "code",
   "execution_count": 155,
   "metadata": {},
   "outputs": [],
   "source": [
    "piecesstr = \"\"\"####\n",
    "\n",
    ".#.\n",
    "###\n",
    ".#.\n",
    "\n",
    "..#\n",
    "..#\n",
    "###\n",
    "\n",
    "#\n",
    "#\n",
    "#\n",
    "#\n",
    "\n",
    "##\n",
    "##\"\"\".replace('.',' ').split(\"\\n\\n\")\n",
    "\n",
    "def getwind(file):\n",
    "    with open(file) as f:\n",
    "        return list(f.read().rstrip())"
   ]
  },
  {
   "cell_type": "code",
   "execution_count": 67,
   "metadata": {},
   "outputs": [],
   "source": [
    "@dataclass \n",
    "class Point:\n",
    "    x:int\n",
    "    y:int\n",
    "\n",
    "    def __repr__(self) -> str:\n",
    "        return f\"({self.x},{self.y})\"\n",
    "\n",
    "    def __add__(a,b):\n",
    "        return Point(a.x+b.x,a.y+b.y)\n",
    "\n",
    "    def __sub__(a,b):\n",
    "        return Point(a.x-b.x,a.y-b.y)\n",
    "\n",
    "    def __hash__(self) -> int:\n",
    "        return hash((self.x,self.y))\n",
    "\n",
    "class Moves:\n",
    "    def __init__(self) -> None:\n",
    "        self.left = Point(-1,0)\n",
    "        self.right = Point(1,0)\n",
    "        self.down = Point(0,-1)\n",
    "\n"
   ]
  },
  {
   "cell_type": "code",
   "execution_count": 169,
   "metadata": {},
   "outputs": [],
   "source": [
    "class PebblePile:\n",
    "    def __init__(self,points):\n",
    "        self.elements = set(points)\n",
    "    \n",
    "    def __repr__(self) -> str:\n",
    "        return f\"PebblePile({self.elements.__repr__()}\"\n",
    "\n",
    "    @classmethod\n",
    "    def makeVent(cls):\n",
    "        return cls(Point(k,0) for k in range(7))\n",
    "\n",
    "    @classmethod\n",
    "    def makeRock(cls,origin:Point,shape:str):\n",
    "        return cls(set(Point(j,i)+origin for i,l in enumerate(shape.splitlines()[::-1]) for j,c in enumerate(l) if c==\"#\"))\n",
    "\n",
    "\n",
    "    def __add__(self,a):\n",
    "        if isinstance(a,Point):\n",
    "            return PebblePile(s+a for s in self.elements)\n",
    "        else: raise NotImplementedError\n",
    "\n",
    "    def __and__(self,other):\n",
    "        return self.elements&other.elements\n",
    "\n",
    "    def ismovelegal(self,m,vent,limits=(0,7)):\n",
    "        new = self+m\n",
    "        xm,xM = limits\n",
    "        if new.xmin()>=xm and new.xmax()<xM and len(new&vent)==0:\n",
    "            # self += m Don't know why this does not work\n",
    "            return True\n",
    "        else:\n",
    "            return False\n",
    "\n",
    "    def merge(self,rock):\n",
    "        self.elements.update(rock.elements)\n",
    "\n",
    "    def xmin(self):\n",
    "        return min(p.x for p in self.elements)\n",
    "\n",
    "    def xmax(self):\n",
    "        return max(p.x for p in self.elements)\n",
    "    \n",
    "    def ymax(self):\n",
    "        return max(p.y for p in self.elements)\n",
    "\n",
    "    def spawnpoint(self):\n",
    "        return Point(2,self.ymax()+4)\n",
    "\n",
    "\n",
    "    \n",
    "\n",
    "\n",
    "\n"
   ]
  },
  {
   "cell_type": "code",
   "execution_count": 390,
   "metadata": {},
   "outputs": [],
   "source": [
    "def playTetris(N,piecesstr,wind=None,Vent=None,repeatwind=False,rock=None):\n",
    "    move = Moves()\n",
    "    if Vent is None:\n",
    "        Vent = PebblePile.makeVent()\n",
    "    cycle = len(piecesstr)\n",
    "    windcycle = len(wind)\n",
    "    if wind is None: wind=[]\n",
    "    kw = 0\n",
    "    for n in range(N):\n",
    "        spawn = Vent.spawnpoint()\n",
    "        if rock is None:\n",
    "            rock = PebblePile.makeRock(spawn,piecesstr[n%cycle])\n",
    "        falling =True\n",
    "        while falling:\n",
    "            if repeatwind:\n",
    "                w=wind[kw%windcycle]\n",
    "            else:\n",
    "                try:\n",
    "                    w=wind[kw]\n",
    "                except IndexError:\n",
    "                    # Vent.merge(rock)\n",
    "                    return Vent,n,rock\n",
    "\n",
    "            kw+=1\n",
    "            if w ==\"<\":\n",
    "                if rock.ismovelegal(move.left,Vent):\n",
    "                    rock+=move.left\n",
    "\n",
    "            elif w==\">\":\n",
    "                if rock.ismovelegal(move.right,Vent):\n",
    "                    rock+=move.right\n",
    "            if falling := rock.ismovelegal(move.down,Vent):\n",
    "                rock+=move.down\n",
    "            else:\n",
    "                Vent.merge(rock)\n",
    "        rock = None\n",
    "\n",
    "\n",
    "    return Vent,n,None"
   ]
  },
  {
   "cell_type": "code",
   "execution_count": 187,
   "metadata": {},
   "outputs": [],
   "source": [
    "exwind= \">>><<><>><<<>><>>><<<>>><<<><<<>><>><<>>\""
   ]
  },
  {
   "cell_type": "code",
   "execution_count": 189,
   "metadata": {},
   "outputs": [],
   "source": [
    "vent = playTetris(2022,piecesstr,exwind)\n",
    "vent.ymax()"
   ]
  },
  {
   "cell_type": "code",
   "execution_count": 233,
   "metadata": {},
   "outputs": [
    {
     "data": {
      "text/plain": [
       "3133"
      ]
     },
     "execution_count": 233,
     "metadata": {},
     "output_type": "execute_result"
    }
   ],
   "source": [
    "wind = getwind(\"input17.txt\")\n",
    "vent,N = playTetris(2022,piecesstr,wind,repeatwind=True)\n",
    "vent.ymax()"
   ]
  },
  {
   "cell_type": "code",
   "execution_count": 245,
   "metadata": {},
   "outputs": [],
   "source": [
    "Ntwo = 1_000_000_000_000"
   ]
  },
  {
   "cell_type": "code",
   "execution_count": 394,
   "metadata": {},
   "outputs": [
    {
     "data": {
      "image/png": "[encoded data removed]",
      "text/plain": [
       "<Figure size 640x480 with 5 Axes>"
      ]
     },
     "metadata": {
      "image/png": {
       "height": 413,
       "width": 500
      }
     },
     "output_type": "display_data"
    }
   ],
   "source": [
    "vent=None\n",
    "fig,ax = plt.subplots(1,5)\n",
    "ycycles = []\n",
    "Ns = []\n",
    "rock=None\n",
    "for k in range(5):\n",
    "    vent,Ncycle,rock = playTetris(200000,piecesstr,wind,repeatwind=False,Vent=vent,rock=rock)\n",
    "    ycycle = vent.ymax()\n",
    "    ycycles.append(ycycle)\n",
    "    Ns.append(Ncycle)\n",
    "    playzone = np.zeros((60,7),dtype=bool)\n",
    "    itrelem = list(vent.elements)\n",
    "    for v in itrelem:\n",
    "        if v.y>=ycycle-50:\n",
    "            playzone[v.y-ycycle+50,v.x] = 1\n",
    "        else:\n",
    "            vent.elements.remove(v)\n",
    "\n",
    "    ax[k].imshow(playzone,origin=\"lower\")"
   ]
  },
  {
   "cell_type": "code",
   "execution_count": 395,
   "metadata": {},
   "outputs": [
    {
     "data": {
      "text/plain": [
       "(2658, array([2647, 2647, 2647, 2647]))"
      ]
     },
     "execution_count": 395,
     "metadata": {},
     "output_type": "execute_result"
    }
   ],
   "source": [
    "ycycles[0],np.diff(ycycles)"
   ]
  },
  {
   "cell_type": "code",
   "execution_count": 396,
   "metadata": {},
   "outputs": [
    {
     "data": {
      "text/plain": [
       "(1715, array([-5,  0,  0,  0]))"
      ]
     },
     "execution_count": 396,
     "metadata": {},
     "output_type": "execute_result"
    }
   ],
   "source": [
    "Ns[0],np.diff(Ns)"
   ]
  },
  {
   "cell_type": "code",
   "execution_count": 397,
   "metadata": {},
   "outputs": [],
   "source": [
    "vent=None\n",
    "ycycles = []\n",
    "Ns = []\n",
    "rock=None\n",
    "for k in range(2):\n",
    "    vent,Ncycle,rock = playTetris(2000,piecesstr,wind,repeatwind=False,Vent=vent,rock=rock)\n",
    "    ycycle = vent.ymax()\n",
    "    ycycles.append(ycycle)\n",
    "    Ns.append(Ncycle)\n",
    "    playzone = np.zeros((60,7),dtype=bool)\n",
    "    itrelem = list(vent.elements)\n",
    "    for v in itrelem:\n",
    "        if v.y>=ycycle-50:\n",
    "            playzone[v.y-ycycle+50,v.x] = 1\n",
    "        else:\n",
    "            vent.elements.remove(v)\n",
    "\n",
    "firstcycle = Ns[0]\n",
    "genericcycle = Ns[1]\n",
    "firsty = ycycles[0]\n",
    "genericy = ycycles[1]-firsty\n",
    "\n",
    "totcycles = (Ntwo-firstcycle)//genericcycle\n",
    "finalN = (Ntwo-firstcycle)%genericcycle\n",
    "ybefore = vent.ymax()\n",
    "vent,Ncycle,rock = playTetris(finalN,piecesstr,wind,repeatwind=False,Vent=vent,rock=rock)\n",
    "finaly = vent.ymax()-ybefore"
   ]
  },
  {
   "cell_type": "code",
   "execution_count": 398,
   "metadata": {},
   "outputs": [
    {
     "data": {
      "text/plain": [
       "1547953216393"
      ]
     },
     "execution_count": 398,
     "metadata": {},
     "output_type": "execute_result"
    }
   ],
   "source": [
    "firsty+ genericy*totcycles+finaly"
   ]
  }
 ],
 "metadata": {
  "kernelspec": {
   "display_name": "Python 3.11.0",
   "language": "python",
   "name": "python3"
  },
  "language_info": {
   "codemirror_mode": {
    "name": "ipython",
    "version": 3
   },
   "file_extension": ".py",
   "mimetype": "text/x-python",
   "name": "python",
   "nbconvert_exporter": "python",
   "pygments_lexer": "ipython3",
   "version": "3.11.0"
  },
  "vscode": {
   "interpreter": {
    "hash": "40ccaff05b52072d4f8eabac3df5900fe0a79a9a98d891785a410914ef6bf60b"
   }
  }
 },
 "nbformat": 4,
 "nbformat_minor": 2
}
