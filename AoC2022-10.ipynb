{
 "cells": [
  {
   "cell_type": "code",
   "execution_count": 2,
   "metadata": {},
   "outputs": [],
   "source": [
    "#My default packages\n",
    "\n",
    "import numpy as np\n",
    "import pandas as pd\n",
    "import matplotlib.pyplot as plt\n",
    "import matplotlib.animation as animation\n",
    "\n",
    "%matplotlib inline\n",
    "%config InlineBackend.figure_format = 'retina'\n",
    "\n",
    "from dataclasses import dataclass\n",
    "import itertools\n",
    "import heapq\n"
   ]
  },
  {
   "attachments": {},
   "cell_type": "markdown",
   "metadata": {},
   "source": [
    "# Day 10"
   ]
  },
  {
   "cell_type": "code",
   "execution_count": 95,
   "metadata": {},
   "outputs": [],
   "source": [
    "def readinput10(fname):\n",
    "    with open(fname) as f:\n",
    "        while line:=f.readline().rstrip():\n",
    "            if line ==\"noop\": yield None\n",
    "            else: yield int(line.split(\" \")[1])"
   ]
  },
  {
   "cell_type": "code",
   "execution_count": 96,
   "metadata": {},
   "outputs": [],
   "source": [
    "X =1\n",
    "ncycle = 1\n",
    "savedcycles = range(20,240,40)\n",
    "savedvalues=[]\n",
    "for inst in readinput10(\"input10.txt\"):\n",
    "    if ncycle in savedcycles:\n",
    "        savedvalues.append(X)\n",
    "    if inst is None: \n",
    "        ncycle +=1\n",
    "    else:\n",
    "        ncycle+=1\n",
    "        if ncycle in savedcycles:\n",
    "            savedvalues.append(X)\n",
    "        ncycle+=1\n",
    "        X+=inst"
   ]
  },
  {
   "cell_type": "code",
   "execution_count": 97,
   "metadata": {},
   "outputs": [
    {
     "name": "stdout",
     "output_type": "stream",
     "text": [
      "13520\n"
     ]
    }
   ],
   "source": [
    "signalstrenght = sum([c*x for c,x in zip(savedcycles,savedvalues)])\n",
    "print(signalstrenght)"
   ]
  },
  {
   "cell_type": "code",
   "execution_count": 98,
   "metadata": {},
   "outputs": [],
   "source": [
    "X =1\n",
    "ncycle = 0\n",
    "screen = np.zeros(240,dtype=int)\n",
    "def sprite(X,ncycle):\n",
    "    row = ncycle//40\n",
    "    return [row*40+X+k for k in range(-1,2) if 0<=(X+k)<40]\n",
    "for inst in readinput10(\"input10.txt\"):\n",
    "    if ncycle in sprite(X,ncycle):\n",
    "        screen[ncycle] =1\n",
    "    if inst is None: \n",
    "        ncycle +=1\n",
    "    else:\n",
    "        ncycle+=1\n",
    "        if ncycle in sprite(X,ncycle):\n",
    "            screen[ncycle] =1\n",
    "        ncycle+=1\n",
    "        X+=inst\n",
    "screen = screen.reshape((6,40))"
   ]
  },
  {
   "cell_type": "code",
   "execution_count": 99,
   "metadata": {},
   "outputs": [
    {
     "data": {
      "text/plain": [
       "(-0.5, 39.5, 5.5, -0.5)"
      ]
     },
     "execution_count": 99,
     "metadata": {},
     "output_type": "execute_result"
    },
    {
     "data": {
      "image/png": "[encoded data removed]",
      "text/plain": [
       "<Figure size 640x480 with 1 Axes>"
      ]
     },
     "metadata": {
      "image/png": {
       "height": 94,
       "width": 515
      }
     },
     "output_type": "display_data"
    }
   ],
   "source": [
    "plt.imshow(1-screen,cmap=\"gray\")\n",
    "plt.axis(\"off\")"
   ]
  }
 ],
 "metadata": {
  "kernelspec": {
   "display_name": "Python 3.11.0",
   "language": "python",
   "name": "python3"
  },
  "language_info": {
   "codemirror_mode": {
    "name": "ipython",
    "version": 3
   },
   "file_extension": ".py",
   "mimetype": "text/x-python",
   "name": "python",
   "nbconvert_exporter": "python",
   "pygments_lexer": "ipython3",
   "version": "3.11.0"
  },
  "vscode": {
   "interpreter": {
    "hash": "40ccaff05b52072d4f8eabac3df5900fe0a79a9a98d891785a410914ef6bf60b"
   }
  }
 },
 "nbformat": 4,
 "nbformat_minor": 2
}
