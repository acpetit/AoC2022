{
 "cells": [
  {
   "cell_type": "code",
   "execution_count": 99,
   "metadata": {},
   "outputs": [],
   "source": [
    "#My default packages\n",
    "\n",
    "import numpy as np\n",
    "import pandas as pd\n",
    "import matplotlib.pyplot as plt\n",
    "import matplotlib.animation as animation\n",
    "\n",
    "%matplotlib inline\n",
    "%config InlineBackend.figure_format = 'retina'\n",
    "\n",
    "from dataclasses import dataclass\n",
    "import dataclasses\n",
    "import itertools\n",
    "from heapq import heappop,heappush\n",
    "\n",
    "from enum import Enum\n"
   ]
  },
  {
   "attachments": {},
   "cell_type": "markdown",
   "metadata": {},
   "source": [
    "# Day 24"
   ]
  },
  {
   "cell_type": "code",
   "execution_count": 100,
   "metadata": {},
   "outputs": [],
   "source": [
    "@dataclass\n",
    "class Point:\n",
    "    x: int\n",
    "    y: int\n",
    "\n",
    "    def __hash__(self) -> int:\n",
    "        return hash((self.x, self.y))\n",
    "\n",
    "    def __add__(self, other) -> \"Point\":\n",
    "        return Point(self.x + other.x, self.y + other.y)\n",
    "\n",
    "    def __sub__(self, other) -> \"Point\":\n",
    "        return Point(self.x - other.x, self.y - other.y)\n",
    "\n",
    "    def __mod__(self,other) -> \"Point\":\n",
    "        return Point(self.x%other.x,self.y%other.y)\n",
    "\n",
    "    def __lt__(self,other):\n",
    "        return self.x<other.x or (self.x==other.x and self.y<other.y)\n",
    "    \n",
    "    def __iter__(self):\n",
    "        yield from dataclasses.asdict(self).values()\n",
    "\n",
    "\n",
    "def Manhattan(p1,p2):\n",
    "    return abs(p1.x-p2.x)+abs(p1.y-p2.y)\n",
    "\n"
   ]
  },
  {
   "cell_type": "code",
   "execution_count": 144,
   "metadata": {},
   "outputs": [],
   "source": [
    "@dataclass\n",
    "class Valley:\n",
    "    north : set\n",
    "    east : set\n",
    "    south : set\n",
    "    west : set\n",
    "    dims : Point\n",
    "    strval :list\n",
    "    start : Point\n",
    "    exit : Point\n",
    "\n",
    "    @classmethod\n",
    "    def fromfile(cls,filename):\n",
    "        with open(filename) as f:\n",
    "            N,E,S,W = set(),set(),set(),set()\n",
    "            strval =[]\n",
    "            start = Point(0,-1)\n",
    "            l = f.readline().rstrip()\n",
    "            Nx = len(l)-2\n",
    "            j=0\n",
    "            while len(l:=f.readline().rstrip().replace(\"#\",\"\"))>1:\n",
    "                strval.append(l)\n",
    "                # print(l)\n",
    "                for i,c in enumerate(l):\n",
    "                    match c:\n",
    "                        case \">\": E.add(Point(i,j))\n",
    "                        case \"<\": W.add(Point(i,j))\n",
    "                        case \"v\": S.add(Point(i,j))\n",
    "                        case \"^\": N.add(Point(i,j))\n",
    "                        case _: pass\n",
    "                j+=1\n",
    "            Ny = j\n",
    "            exit = Point(Nx-1,Ny)\n",
    "            return cls(N,E,S,W,Point(Nx,Ny),strval,start,exit)\n",
    "    \n",
    "    def toexit(self,pos):\n",
    "        return Manhattan(pos,self.exit)\n",
    "\n",
    "    def isfree(self,pos,t):\n",
    "        if pos == self.start or pos == self.exit:\n",
    "            return True\n",
    "        if (pos+Point(0,t))%self.dims in self.north:\n",
    "            return False\n",
    "        elif (pos-Point(0,t))%self.dims in self.south:\n",
    "            return False\n",
    "        elif (pos-Point(t,0))%self.dims in self.east:\n",
    "            return False\n",
    "        elif (pos+Point(t,0))%self.dims in self.west:\n",
    "            return False\n",
    "        return True\n",
    "\n",
    "    def inbounds(self,pos):\n",
    "        if pos == self.start or pos == self.exit:\n",
    "            return True\n",
    "        elif 0<=pos.x and 0<= pos.y and pos.x<self.dims.x and pos.y<self.dims.y:\n",
    "            return True\n",
    "        return False\n",
    "        \n",
    "\n",
    "    def neighbours(self,pos,t):\n",
    "        Adjacents = [Point(0,0),Point(-1,0),Point(1,0),Point(0,-1),Point(0,1)]\n",
    "        neighbours = []\n",
    "        for a in Adjacents:\n",
    "            n = pos+a\n",
    "            if self.inbounds(n) and self.isfree(n,t):\n",
    "                neighbours.append(n)\n",
    "        return neighbours\n",
    "\n",
    "\n",
    "    def walkinthedark(self,st=None,ex=None,t0=0):\n",
    "        from math import lcm\n",
    "        ppcm = lcm(self.dims.x,self.dims.y)\n",
    "\n",
    "        if st is None:\n",
    "            st = self.start\n",
    "        if ex is None:\n",
    "            ex = self.exit\n",
    "        queue = [(0+Manhattan(st,ex),t0,st)]\n",
    "        visited = set()\n",
    "        while queue:\n",
    "            cost,t,pos = heappop(queue)\n",
    "            visited.add((t%ppcm,pos))\n",
    "            if pos==ex:\n",
    "                return t,pos\n",
    "            else:\n",
    "                for next in self.neighbours(pos,t+1):\n",
    "                    cost = t+1+Manhattan(ex,next)\n",
    "                    if ((t+1)%ppcm,next) not in visited and (cost,t+1,next) not in queue:\n",
    "                        heappush(queue,(cost,t+1,next))\n",
    "\n",
    "\n",
    "    def toarray(self,t=0):\n",
    "        arr = np.zeros((self.dims.y,self.dims.x),dtype=int)\n",
    "        for p in self.north:\n",
    "            pt  = (p -Point(0,t))%self.dims\n",
    "            arr[pt.y,pt.x] += 1\n",
    "        for p in self.south:\n",
    "            pt  = (p +Point(0,t))%self.dims\n",
    "            arr[pt.y,pt.x] += 1\n",
    "        for p in self.east:\n",
    "            pt  = (p +Point(t,0))%self.dims\n",
    "            arr[pt.y,pt.x] += 1\n",
    "        for p in self.west:\n",
    "            pt  = (p -Point(t,0))%self.dims\n",
    "            arr[pt.y,pt.x] += 1\n",
    "        return arr"
   ]
  },
  {
   "cell_type": "code",
   "execution_count": 147,
   "metadata": {},
   "outputs": [],
   "source": [
    "valley = Valley.fromfile(\"input24.txt\")"
   ]
  },
  {
   "cell_type": "code",
   "execution_count": 148,
   "metadata": {},
   "outputs": [],
   "source": [
    "exvalley = Valley.fromfile(\"ex24.txt\")"
   ]
  },
  {
   "cell_type": "code",
   "execution_count": 153,
   "metadata": {},
   "outputs": [
    {
     "name": "stdout",
     "output_type": "stream",
     "text": [
      "One way: 18\n",
      "With the snack: 54\n"
     ]
    }
   ],
   "source": [
    "tex,ex = exvalley.walkinthedark(exvalley.start,exvalley.exit,t0=0)\n",
    "print(f\"One way: {tex}\")\n",
    "tst,st = exvalley.walkinthedark(exvalley.exit,exvalley.start,t0=tex)\n",
    "tex,ex = exvalley.walkinthedark(exvalley.start,exvalley.exit,t0=tst)\n",
    "print(f\"With the snack: {tex}\")"
   ]
  },
  {
   "cell_type": "code",
   "execution_count": 154,
   "metadata": {},
   "outputs": [
    {
     "name": "stdout",
     "output_type": "stream",
     "text": [
      "One way: 247\n",
      "With the snack: 728\n"
     ]
    }
   ],
   "source": [
    "tex,ex = valley.walkinthedark(valley.start,valley.exit,t0=0)\n",
    "print(f\"One way: {tex}\")\n",
    "tst,st = valley.walkinthedark(valley.exit,valley.start,t0=tex)\n",
    "tex,ex = valley.walkinthedark(valley.start,valley.exit,t0=tst)\n",
    "print(f\"With the snack: {tex}\")"
   ]
  },
  {
   "cell_type": "code",
   "execution_count": null,
   "metadata": {},
   "outputs": [],
   "source": [
    "for t in range(10):\n",
    "    print(t)\n",
    "    plt.imshow(valley.toarray(t),vmax=4)\n",
    "    plt.show()"
   ]
  }
 ],
 "metadata": {
  "kernelspec": {
   "display_name": "Python 3.11.0",
   "language": "python",
   "name": "python3"
  },
  "language_info": {
   "codemirror_mode": {
    "name": "ipython",
    "version": 3
   },
   "file_extension": ".py",
   "mimetype": "text/x-python",
   "name": "python",
   "nbconvert_exporter": "python",
   "pygments_lexer": "ipython3",
   "version": "3.11.0"
  },
  "vscode": {
   "interpreter": {
    "hash": "40ccaff05b52072d4f8eabac3df5900fe0a79a9a98d891785a410914ef6bf60b"
   }
  }
 },
 "nbformat": 4,
 "nbformat_minor": 2
}
