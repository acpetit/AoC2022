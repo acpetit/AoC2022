{
 "cells": [
  {
   "cell_type": "code",
   "execution_count": 4,
   "metadata": {},
   "outputs": [],
   "source": [
    "#My default packages\n",
    "\n",
    "import numpy as np\n",
    "import pandas as pd\n",
    "import matplotlib.pyplot as plt\n",
    "import matplotlib.animation as animation\n",
    "\n",
    "%matplotlib inline\n",
    "%config InlineBackend.figure_format = 'retina'\n",
    "\n",
    "from dataclasses import dataclass\n",
    "import itertools\n",
    "import heapq\n"
   ]
  },
  {
   "attachments": {},
   "cell_type": "markdown",
   "metadata": {},
   "source": [
    "# Day 13"
   ]
  },
  {
   "cell_type": "code",
   "execution_count": 5,
   "metadata": {},
   "outputs": [],
   "source": [
    "from ast import literal_eval\n",
    "with open(\"input13.txt\") as f:\n",
    "    packets = [ [literal_eval(p) for p in pairs.split(\"\\n\")[:2]] for pairs in f.read().split(\"\\n\\n\")]\n",
    "\n",
    "with open(\"ex13.txt\") as f:\n",
    "    pex = [ [literal_eval(p) for p in pairs.split(\"\\n\")[:2]] for pairs in f.read().split(\"\\n\\n\")]"
   ]
  },
  {
   "cell_type": "code",
   "execution_count": 6,
   "metadata": {},
   "outputs": [],
   "source": [
    "def compare(p1,p2):\n",
    "    # print(p1,p2)\n",
    "    if isinstance(p1,int):\n",
    "        if isinstance(p2,int):\n",
    "            # print(\"Int-int\",np.sign(p2-p1))\n",
    "            return np.sign(p2-p1)\n",
    "        else:\n",
    "            return compare([p1],p2)\n",
    "    elif isinstance(p2,int):\n",
    "        return compare(p1,[p2])\n",
    "    else:\n",
    "        res = True\n",
    "        for e1,e2 in zip(p1,p2):\n",
    "            res = compare(e1,e2)\n",
    "            if res!=0: \n",
    "                return res\n",
    "                \n",
    "        # print(\"Uneven list\",np.sign(len(p2)-len(p1)))\n",
    "        return np.sign(len(p2)-len(p1))"
   ]
  },
  {
   "cell_type": "code",
   "execution_count": 7,
   "metadata": {},
   "outputs": [],
   "source": [
    "ordered = np.array([compare(*ps) for ps in packets])"
   ]
  },
  {
   "cell_type": "code",
   "execution_count": 8,
   "metadata": {},
   "outputs": [
    {
     "data": {
      "text/plain": [
       "5292"
      ]
     },
     "execution_count": 8,
     "metadata": {},
     "output_type": "execute_result"
    }
   ],
   "source": [
    "np.arange(1,len(packets)+1)[ordered>0].sum()"
   ]
  },
  {
   "cell_type": "code",
   "execution_count": 9,
   "metadata": {},
   "outputs": [],
   "source": [
    "class Packet:\n",
    "    def __init__(self,l):\n",
    "        self.l = l\n",
    "    def __repr__(self) -> str:\n",
    "        return self.l.__repr__()\n",
    "\n",
    "    def __eq__(self, __o) -> bool:\n",
    "        return self.l==__o.l\n",
    "    def __lt__(self,b):\n",
    "        return compare(self.l,b.l)>0"
   ]
  },
  {
   "cell_type": "code",
   "execution_count": 10,
   "metadata": {},
   "outputs": [],
   "source": [
    "with open(\"input13.txt\") as f:\n",
    "    fullpackets = [ Packet(literal_eval(p.rstrip()))  for p in f.readlines() if p.rstrip()]\n",
    "fullpackets.append(Packet([[2]]))\n",
    "fullpackets.append(Packet([[6]]))"
   ]
  },
  {
   "cell_type": "code",
   "execution_count": 11,
   "metadata": {},
   "outputs": [],
   "source": [
    "fullpackets.sort()"
   ]
  },
  {
   "cell_type": "code",
   "execution_count": 12,
   "metadata": {},
   "outputs": [
    {
     "data": {
      "text/plain": [
       "23868"
      ]
     },
     "execution_count": 12,
     "metadata": {},
     "output_type": "execute_result"
    }
   ],
   "source": [
    "res = 1\n",
    "for k,p in enumerate(fullpackets):\n",
    "    if p in [Packet([[2]]),Packet([[6]])]: \n",
    "        res*=(k+1)\n",
    "\n",
    "res"
   ]
  }
 ],
 "metadata": {
  "kernelspec": {
   "display_name": "Python 3.11.0",
   "language": "python",
   "name": "python3"
  },
  "language_info": {
   "codemirror_mode": {
    "name": "ipython",
    "version": 3
   },
   "file_extension": ".py",
   "mimetype": "text/x-python",
   "name": "python",
   "nbconvert_exporter": "python",
   "pygments_lexer": "ipython3",
   "version": "3.11.0 | packaged by conda-forge | (main, Oct 25 2022, 06:24:51) [Clang 14.0.4 ]"
  },
  "vscode": {
   "interpreter": {
    "hash": "40ccaff05b52072d4f8eabac3df5900fe0a79a9a98d891785a410914ef6bf60b"
   }
  }
 },
 "nbformat": 4,
 "nbformat_minor": 2
}
