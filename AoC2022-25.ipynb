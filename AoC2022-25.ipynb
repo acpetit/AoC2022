{
 "cells": [
  {
   "cell_type": "code",
   "execution_count": 50,
   "metadata": {},
   "outputs": [],
   "source": [
    "#My default packages\n",
    "\n",
    "import numpy as np\n",
    "import pandas as pd\n",
    "import matplotlib.pyplot as plt\n",
    "import matplotlib.animation as animation\n",
    "\n",
    "%matplotlib inline\n",
    "%config InlineBackend.figure_format = 'retina'\n",
    "\n",
    "from dataclasses import dataclass\n",
    "import itertools\n"
   ]
  },
  {
   "attachments": {},
   "cell_type": "markdown",
   "metadata": {},
   "source": [
    "# Day 25"
   ]
  },
  {
   "cell_type": "code",
   "execution_count": 46,
   "metadata": {},
   "outputs": [],
   "source": [
    "SNAFUtoDec = {\"=\":-2,\"-\":-1,\"0\":0,\"1\":1,\"2\":2}\n",
    "DectoSNAFU = {v:k for k,v in SNAFUtoDec.items()}\n",
    "\n",
    "@dataclass\n",
    "class SNAFU:\n",
    "    value : str\n",
    "\n",
    "    def __add__(a,b):\n",
    "        a = a.value\n",
    "        b = b.value\n",
    "        ret = \"0\"\n",
    "        c = \"\"\n",
    "        while a or b or ret!=\"0\":\n",
    "            if a: a,ak = a[:-1],a[-1]\n",
    "            else: ak = \"0\"\n",
    "            if b: b,bk = b[:-1],b[-1]\n",
    "            else: bk = \"0\"\n",
    "            tmp = sum(SNAFUtoDec[x] for x in (ak,bk,ret))\n",
    "            ck = DectoSNAFU[(tmp+2)%5-2]\n",
    "            ret = DectoSNAFU[(tmp+2)//5]\n",
    "            c = ck+c\n",
    "        return SNAFU(c)\n",
    "\n",
    "    def __repr__(self) -> str:\n",
    "        return f\"SNAFU({self.value} : {self.toint()})\"\n",
    "\n",
    "    def toint(self):\n",
    "        res = 0\n",
    "        for k,a in enumerate(self.value[::-1]):\n",
    "            res += SNAFUtoDec[a]*5**k\n",
    "        return res"
   ]
  },
  {
   "cell_type": "code",
   "execution_count": 47,
   "metadata": {},
   "outputs": [],
   "source": [
    "with open(\"input25.txt\") as f:\n",
    "    fuelamount = f.read().splitlines()\n",
    "    SNAFUel = [SNAFU(fuel) for fuel in fuelamount]"
   ]
  },
  {
   "cell_type": "code",
   "execution_count": 49,
   "metadata": {},
   "outputs": [
    {
     "data": {
      "text/plain": [
       "SNAFU(2-212-2---=00-1--102 : 36067808580527)"
      ]
     },
     "execution_count": 49,
     "metadata": {},
     "output_type": "execute_result"
    }
   ],
   "source": [
    "res = SNAFU(\"0\")\n",
    "for fuel in SNAFUel:\n",
    "    res += fuel\n",
    "res"
   ]
  }
 ],
 "metadata": {
  "kernelspec": {
   "display_name": "Python 3.11.0",
   "language": "python",
   "name": "python3"
  },
  "language_info": {
   "codemirror_mode": {
    "name": "ipython",
    "version": 3
   },
   "file_extension": ".py",
   "mimetype": "text/x-python",
   "name": "python",
   "nbconvert_exporter": "python",
   "pygments_lexer": "ipython3",
   "version": "3.11.0"
  },
  "vscode": {
   "interpreter": {
    "hash": "40ccaff05b52072d4f8eabac3df5900fe0a79a9a98d891785a410914ef6bf60b"
   }
  }
 },
 "nbformat": 4,
 "nbformat_minor": 2
}
