{
 "cells": [
  {
   "cell_type": "code",
   "execution_count": 1,
   "metadata": {},
   "outputs": [],
   "source": [
    "#My default packages\n",
    "\n",
    "import numpy as np\n",
    "import pandas as pd\n",
    "import matplotlib.pyplot as plt\n",
    "import matplotlib.animation as animation\n",
    "\n",
    "%matplotlib inline\n",
    "%config InlineBackend.figure_format = 'retina'\n",
    "\n",
    "from dataclasses import dataclass\n",
    "import itertools\n",
    "import heapq\n"
   ]
  },
  {
   "attachments": {},
   "cell_type": "markdown",
   "metadata": {},
   "source": [
    "# Day 19"
   ]
  },
  {
   "cell_type": "code",
   "execution_count": 2,
   "metadata": {},
   "outputs": [],
   "source": [
    "Resources = {\"ore\":0,\"clay\":1,\"obsidian\":2,\"geode\":3}\n"
   ]
  },
  {
   "cell_type": "code",
   "execution_count": 3,
   "metadata": {},
   "outputs": [],
   "source": [
    "def blueprintfromfile(file):\n",
    "    with open(file) as f:\n",
    "        blueprints = {}\n",
    "        for line in f.readlines():\n",
    "            id,rules = line[:-2].split(\": \")\n",
    "            id = int(id.split()[1])\n",
    "            rules = rules.split(\". \")\n",
    "            blueprints[id]= [Recipe(rule) for rule in rules]\n",
    "    return blueprints"
   ]
  },
  {
   "cell_type": "code",
   "execution_count": 4,
   "metadata": {},
   "outputs": [],
   "source": [
    "class Recipe:\n",
    "\n",
    "    def __init__(self,rule) -> None:\n",
    "        robot, resources = rule.split(\" \",1)[1].split(\" costs \")\n",
    "        self.robot = robot.split()[0]\n",
    "        self.recipe = np.zeros((2,4),dtype=int)\n",
    "        self.recipe[1,Resources[self.robot]] = 1\n",
    "        for r in resources.split(\" and \"):\n",
    "            n,what = r.split()\n",
    "            self.recipe[0,Resources[what]] = -int(n)\n",
    "    \n",
    "    def __repr__(self) -> str:\n",
    "        return f\"Recipe({self.robot} robot: {self.recipe})\""
   ]
  },
  {
   "cell_type": "code",
   "execution_count": 5,
   "metadata": {},
   "outputs": [],
   "source": [
    "example = \"\"\"Blueprint 1: Each ore robot costs 4 ore. Each clay robot costs 2 ore. Each obsidian robot costs 3 ore and 14 clay. Each geode robot costs 2 ore and 7 obsidian.\n",
    "Blueprint 2: Each ore robot costs 2 ore. Each clay robot costs 3 ore. Each obsidian robot costs 3 ore and 8 clay. Each geode robot costs 3 ore and 12 obsidian.\"\"\""
   ]
  },
  {
   "cell_type": "code",
   "execution_count": 6,
   "metadata": {},
   "outputs": [],
   "source": [
    "exblue = {}\n",
    "for l in example.splitlines():\n",
    "    id,rules = l[:-1].split(\": \")\n",
    "    id = int(id.split()[1])\n",
    "    rules = rules.split(\". \")\n",
    "    exblue[id]= [Recipe(rule) for rule in rules]"
   ]
  },
  {
   "cell_type": "code",
   "execution_count": 8,
   "metadata": {},
   "outputs": [],
   "source": [
    "blueprints = blueprintfromfile(\"input19.txt\")"
   ]
  },
  {
   "cell_type": "code",
   "execution_count": 47,
   "metadata": {},
   "outputs": [],
   "source": [
    "class Factory:\n",
    "    def __init__(self,blueprintid,recipes) -> None:\n",
    "        self.id = blueprintid\n",
    "        self.recipes = {r.robot: r.recipe for r in recipes}\n",
    "        self.maxrobot = {r.robot: max(-_r.recipe[0,Resources[r.robot]] for _r in recipes) for r in recipes}\n",
    "        self.maxrobot[\"geode\"] = np.inf\n",
    "        # self.inventory = {r:0 for r in self.resources}\n",
    "        # self.robots = {r: int(r==\"ore\") for r in self.resources}\n",
    "    \n",
    "    def __repr__(self) -> str:\n",
    "        return f\"Factory({self.id})\"#(Robots = {self.robots}, Inventory = {self.inventory})\"\n",
    "\n",
    "    def initinventory(self):\n",
    "        inv = np.zeros((2,4),dtype=int)\n",
    "        inv[1,0]=1\n",
    "        return inv\n",
    "\n",
    "    def collect(self,inventory):\n",
    "        inventory[0] += inventory[1]\n",
    "    \n",
    "    def buildrobot(self,resource,inventory):\n",
    "        \"\"\"Run a time step, check if the robot resource can be built, collect the resources and build the robot if possible\"\"\"\n",
    "        assert resource in Resources\n",
    "\n",
    "        recipe = self.recipes[resource]\n",
    "        gobot = np.all(inventory+recipe>=0)\n",
    "        self.collect(inventory)\n",
    "        if gobot:\n",
    "            inventory+=recipe\n",
    "            return True\n",
    "        else: return False\n",
    "\n",
    "    \n",
    "\n",
    "    def nextstep(self,inventory,time):\n",
    "        nextsteps =[]\n",
    "        if time>0:\n",
    "            newinv = inventory.copy()\n",
    "            self.collect(newinv)\n",
    "            nextsteps.append((time-1,newinv))\n",
    "            for r in self.recipes.keys():\n",
    "                newinv = inventory.copy()\n",
    "                # print(inventory)\n",
    "\n",
    "                if (r==\"geode\" or (inventory[0,Resources[r]]<(self.maxrobot[r]-inventory[1,Resources[r]])*time)):\n",
    "                    if self.buildrobot(r,newinv):\n",
    "                        nextsteps.append((time-1,newinv))\n",
    "        return nextsteps\n",
    "\n",
    "    def nextbots(self,inventory,time):\n",
    "        nextbots = []\n",
    "        if time>0:\n",
    "            norobot = False\n",
    "            for r in self.recipes.keys():\n",
    "                if (r==\"geode\" or (inventory[0,Resources[r]]<(self.maxrobot[r]-inventory[1,Resources[r]])*time)):\n",
    "                    newinv = inventory.copy()\n",
    "                    t = time\n",
    "                    robotbuilt = False\n",
    "                    while not robotbuilt:\n",
    "                        t-=1\n",
    "                        if t<=0:\n",
    "                            if not norobot:\n",
    "                                self.collect(newinv)\n",
    "                                norobot = True #only include the no robot built once\n",
    "                                nextbots.append((t,newinv))\n",
    "                            break\n",
    "                        robotbuilt = self.buildrobot(r,newinv)\n",
    "                    if robotbuilt:\n",
    "                        nextbots.append((t,newinv))\n",
    "        return nextbots\n",
    "\n",
    "        \n",
    "    def upperbound(self,inventory,time):\n",
    "        \n",
    "        geodes = inventory[0,-1]\n",
    "        robots= inventory[1,-1]\n",
    "        up=geodes + robots*time\n",
    "        # obsidian = inventory[0,-1]\n",
    "        if np.any(inventory[0]+self.recipes[\"geode\"][0]<0):\n",
    "            time-=1\n",
    "        return  up + time*(time+1)*(time-1)//6\n",
    "\n",
    "    def explorebuildorders(self,time):\n",
    "\n",
    "        maxgeodes = 0\n",
    "        queue = [(time,self.initinventory())]\n",
    "\n",
    "        while queue:\n",
    "\n",
    "            t, inventory = queue.pop()\n",
    "            if t<0: continue\n",
    "            if self.upperbound(inventory,t)>maxgeodes:\n",
    "                queue += self.nextstep(inventory,t)\n",
    "                if inventory[0,-1]>maxgeodes:\n",
    "                    maxgeodes = inventory[0,-1]\n",
    "                    print(len(queue),maxgeodes)\n",
    "            print(self.nextstep(inventory,t))\n",
    "        return maxgeodes\n",
    "\n",
    "    def explorebotorders(self,time):\n",
    "\n",
    "        maxgeodes = 0\n",
    "        queue = [(time,self.initinventory())]\n",
    "\n",
    "        while queue:\n",
    "\n",
    "            t, inventory = queue.pop()\n",
    "            if t<0: continue\n",
    "            if self.upperbound(inventory,t)>maxgeodes:\n",
    "                queue += self.nextbots(inventory,t)\n",
    "                if inventory[0,-1]>maxgeodes:\n",
    "                    maxgeodes = inventory[0,-1]\n",
    "                    # print(len(queue),maxgeodes,t)\n",
    "\n",
    "            # print(self.nextbots(inventory,t))\n",
    "        return maxgeodes\n",
    "\n",
    "\n"
   ]
  },
  {
   "cell_type": "code",
   "execution_count": null,
   "metadata": {},
   "outputs": [],
   "source": [
    "res = Factory(1,exblue[1]).explorebuildorders(24) #takes forever"
   ]
  },
  {
   "cell_type": "code",
   "execution_count": 44,
   "metadata": {},
   "outputs": [
    {
     "name": "stdout",
     "output_type": "stream",
     "text": [
      "10 4 0\n",
      "13 5 0\n",
      "14 6 0\n",
      "14 8 0\n",
      "17 9 0\n"
     ]
    }
   ],
   "source": [
    "res = Factory(1,exblue[1]).explorebotorders(24)"
   ]
  },
  {
   "cell_type": "code",
   "execution_count": 48,
   "metadata": {},
   "outputs": [
    {
     "name": "stdout",
     "output_type": "stream",
     "text": [
      "1\n",
      "2\n",
      "3\n",
      "4\n",
      "5\n",
      "6\n",
      "7\n",
      "8\n",
      "9\n",
      "10\n",
      "11\n",
      "12\n",
      "13\n",
      "14\n",
      "15\n",
      "16\n",
      "17\n",
      "18\n",
      "19\n",
      "20\n",
      "21\n",
      "22\n",
      "23\n",
      "24\n",
      "25\n",
      "26\n",
      "27\n",
      "28\n",
      "29\n",
      "30\n"
     ]
    }
   ],
   "source": [
    "maxgeodes ={}\n",
    "for k,blueprint in blueprints.items():\n",
    "    print(k)\n",
    "    maxgeodes[k]=Factory(k,blueprint).explorebotorders(24)"
   ]
  },
  {
   "cell_type": "code",
   "execution_count": 49,
   "metadata": {},
   "outputs": [
    {
     "data": {
      "text/plain": [
       "1981"
      ]
     },
     "execution_count": 49,
     "metadata": {},
     "output_type": "execute_result"
    }
   ],
   "source": [
    "sum(k*n for k,n in maxgeodes.items())"
   ]
  },
  {
   "cell_type": "code",
   "execution_count": 52,
   "metadata": {},
   "outputs": [
    {
     "name": "stdout",
     "output_type": "stream",
     "text": [
      "1\n",
      "2\n",
      "3\n"
     ]
    }
   ],
   "source": [
    "maxgeodes2 ={}\n",
    "for k,blueprint in blueprints.items():\n",
    "    if k<=3:\n",
    "        print(k)\n",
    "        maxgeodes2[k]=Factory(k,blueprint).explorebotorders(32)"
   ]
  },
  {
   "cell_type": "code",
   "execution_count": 54,
   "metadata": {},
   "outputs": [
    {
     "data": {
      "text/plain": [
       "10962"
      ]
     },
     "execution_count": 54,
     "metadata": {},
     "output_type": "execute_result"
    }
   ],
   "source": [
    "maxgeodes2[1]*maxgeodes2[2]*maxgeodes2[3]"
   ]
  },
  {
   "cell_type": "code",
   "execution_count": null,
   "metadata": {},
   "outputs": [],
   "source": []
  }
 ],
 "metadata": {
  "kernelspec": {
   "display_name": "Python 3.11.0",
   "language": "python",
   "name": "python3"
  },
  "language_info": {
   "codemirror_mode": {
    "name": "ipython",
    "version": 3
   },
   "file_extension": ".py",
   "mimetype": "text/x-python",
   "name": "python",
   "nbconvert_exporter": "python",
   "pygments_lexer": "ipython3",
   "version": "3.11.0 | packaged by conda-forge | (main, Oct 25 2022, 06:24:51) [Clang 14.0.4 ]"
  },
  "vscode": {
   "interpreter": {
    "hash": "40ccaff05b52072d4f8eabac3df5900fe0a79a9a98d891785a410914ef6bf60b"
   }
  }
 },
 "nbformat": 4,
 "nbformat_minor": 2
}
