{
 "cells": [
  {
   "cell_type": "code",
   "execution_count": 1,
   "metadata": {},
   "outputs": [],
   "source": [
    "#My default packages\n",
    "\n",
    "import numpy as np\n",
    "import pandas as pd\n",
    "import matplotlib.pyplot as plt\n",
    "import matplotlib.animation as animation\n",
    "\n",
    "%matplotlib inline\n",
    "%config InlineBackend.figure_format = 'retina'\n",
    "\n",
    "from dataclasses import dataclass\n",
    "import itertools\n",
    "import heapq\n"
   ]
  },
  {
   "attachments": {},
   "cell_type": "markdown",
   "metadata": {},
   "source": [
    "# Day 21"
   ]
  },
  {
   "cell_type": "code",
   "execution_count": 73,
   "metadata": {},
   "outputs": [],
   "source": [
    "class Monkey:\n",
    "    def __init__(self,monstr) -> None:\n",
    "        self.name,self.op = monstr.rstrip().split(\": \")\n",
    "\n",
    "    def __repr__(self) -> str:\n",
    "        return f\"Monkey({self.name}: {self.op})\"\n",
    "    \n",
    "    def yell(self,tree):\n",
    "        try:\n",
    "            dumb = int(self.op)\n",
    "            return dumb\n",
    "        except ValueError:\n",
    "            m1,op,m2 = self.op.split(\" \")\n",
    "            match op:\n",
    "                case \"+\": \n",
    "                    res = tree[m1].yell(tree) + tree[m2].yell(tree)\n",
    "                case \"-\": \n",
    "                    res =  tree[m1].yell(tree) - tree[m2].yell(tree)\n",
    "                case \"*\": \n",
    "                    res=  tree[m1].yell(tree) * tree[m2].yell(tree)\n",
    "                case \"/\": \n",
    "                    res = tree[m1].yell(tree) / tree[m2].yell(tree)\n",
    "                case other:\n",
    "                    raise NotImplementedError(f\"{op} is unknown\")\n",
    "            return res\n",
    "\n",
    "\n",
    "def buildmonkeytree(filename):\n",
    "\n",
    "    monkeytree={}\n",
    "    with open(filename) as f:\n",
    "        for monstr in f.readlines():\n",
    "            monkey = Monkey(monstr)\n",
    "            monkeytree[monkey.name] = monkey\n",
    "    return monkeytree"
   ]
  },
  {
   "cell_type": "code",
   "execution_count": 79,
   "metadata": {},
   "outputs": [],
   "source": [
    "monkeytree = buildmonkeytree(\"input21.txt\")"
   ]
  },
  {
   "cell_type": "code",
   "execution_count": 81,
   "metadata": {},
   "outputs": [
    {
     "data": {
      "text/plain": [
       "291425799367130"
      ]
     },
     "execution_count": 81,
     "metadata": {},
     "output_type": "execute_result"
    }
   ],
   "source": [
    "int(monkeytree[\"root\"].yell(monkeytree))"
   ]
  },
  {
   "cell_type": "code",
   "execution_count": 67,
   "metadata": {},
   "outputs": [],
   "source": [
    "import sympy\n",
    "YelledUnknown = sympy.Symbol('x')"
   ]
  },
  {
   "cell_type": "code",
   "execution_count": 69,
   "metadata": {},
   "outputs": [],
   "source": [
    "class RootMonkey(Monkey):\n",
    "\n",
    "    def yell(self,tree):\n",
    "        m1,op,m2 = self.op.split(\" \")\n",
    "\n",
    "        return sympy.solve(tree[m1].yell(tree) - tree[m2].yell(tree),YelledUnknown)\n",
    "\n",
    "class HumanMonkey(Monkey):\n",
    "    def yell(self,tree):\n",
    "        return YelledUnknown"
   ]
  },
  {
   "cell_type": "code",
   "execution_count": 74,
   "metadata": {},
   "outputs": [],
   "source": [
    "def goodtranslationbuildmonkeytree(filename):\n",
    "\n",
    "    monkeytree={}\n",
    "    with open(filename) as f:\n",
    "        for monstr in f.readlines():\n",
    "            name = monstr.split(\":\")[0]\n",
    "            match name:\n",
    "                case \"root\":\n",
    "                    monkeytree[name] = RootMonkey(monstr)\n",
    "                case \"humn\":\n",
    "                    monkeytree[name] = HumanMonkey(monstr)\n",
    "                case _:\n",
    "                    monkeytree[name] = Monkey(monstr)\n",
    "    return monkeytree"
   ]
  },
  {
   "cell_type": "code",
   "execution_count": 75,
   "metadata": {},
   "outputs": [],
   "source": [
    "smartmonkeytree = goodtranslationbuildmonkeytree(\"input21.txt\")"
   ]
  },
  {
   "cell_type": "code",
   "execution_count": 78,
   "metadata": {},
   "outputs": [
    {
     "data": {
      "text/plain": [
       "3219579395609"
      ]
     },
     "execution_count": 78,
     "metadata": {},
     "output_type": "execute_result"
    }
   ],
   "source": [
    "int(round(smartmonkeytree[\"root\"].yell(smartmonkeytree)[0]))"
   ]
  }
 ],
 "metadata": {
  "kernelspec": {
   "display_name": "Python 3.11.0",
   "language": "python",
   "name": "python3"
  },
  "language_info": {
   "codemirror_mode": {
    "name": "ipython",
    "version": 3
   },
   "file_extension": ".py",
   "mimetype": "text/x-python",
   "name": "python",
   "nbconvert_exporter": "python",
   "pygments_lexer": "ipython3",
   "version": "3.11.0"
  },
  "vscode": {
   "interpreter": {
    "hash": "40ccaff05b52072d4f8eabac3df5900fe0a79a9a98d891785a410914ef6bf60b"
   }
  }
 },
 "nbformat": 4,
 "nbformat_minor": 2
}
